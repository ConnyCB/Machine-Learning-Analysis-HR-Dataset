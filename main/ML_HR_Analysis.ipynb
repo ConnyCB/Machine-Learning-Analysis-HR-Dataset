{
 "cells": [
  {
   "cell_type": "markdown",
   "id": "5cbfad1c-b8e4-4722-b897-9ae1e7bbe8a2",
   "metadata": {},
   "source": [
    "# Machine Learning - HR Analytics: Job Change of Data Scientists"
   ]
  },
  {
   "cell_type": "markdown",
   "id": "fa997491-0904-4ea7-a768-b945de898622",
   "metadata": {},
   "source": [
    "## Setup"
   ]
  },
  {
   "cell_type": "code",
   "execution_count": 1,
   "id": "74b11f60-4ead-46e9-8bf6-d73ed9a0fe25",
   "metadata": {},
   "outputs": [],
   "source": [
    "import os\n",
    "from pprint import pprint \n",
    "import numpy as np\n",
    "import pandas as pd\n",
    "import seaborn as sns\n",
    "import matplotlib.pyplot as plt\n",
    "import seaborn as sns\n",
    "import missingno as msno\n",
    "import statsmodels.formula.api as smf\n",
    "\n",
    "plt.rc(\"axes.spines\", top=False, right=False)\n",
    "plt.rcParams['figure.figsize'] = [10, 6]\n",
    "plt.rcParams['figure.dpi'] = 100\n",
    "%matplotlib inline"
   ]
  },
  {
   "cell_type": "code",
   "execution_count": 2,
   "id": "4f5fcf7a-5f94-4a0d-bfc7-cf882ab05273",
   "metadata": {},
   "outputs": [],
   "source": [
    "from sklearn.model_selection import train_test_split\n",
    "from sklearn.pipeline import Pipeline\n",
    "from sklearn import set_config\n",
    "from sklearn.compose import make_column_transformer\n",
    "from sklearn.impute import SimpleImputer\n",
    "from sklearn.preprocessing import OneHotEncoder\n",
    "from sklearn.preprocessing import OrdinalEncoder\n",
    "from sklearn.compose import ColumnTransformer\n",
    "from sklearn.preprocessing import StandardScaler, Normalizer, QuantileTransformer, MinMaxScaler, KBinsDiscretizer, PolynomialFeatures, FunctionTransformer\n",
    "import category_encoders as ce\n",
    "from imblearn.over_sampling import SMOTE\n",
    "from sklearn.cluster import KMeans\n",
    "from sklearn.tree import DecisionTreeClassifier\n",
    "from sklearn.ensemble import RandomForestClassifier\n",
    "from sklearn.linear_model import LogisticRegression\n",
    "from sklearn.metrics import accuracy_score\n",
    "from sklearn.feature_selection import SelectKBest, f_classif\n",
    "from sklearn.metrics import recall_score,precision_score,f1_score, ConfusionMatrixDisplay,roc_auc_score,confusion_matrix\n",
    "from sklearn.neighbors import KNeighborsClassifier\n",
    "from sklearn.model_selection import GridSearchCV\n",
    "\n",
    "from warnings import simplefilter\n",
    "simplefilter(action='ignore', category=FutureWarning)"
   ]
  },
  {
   "cell_type": "code",
   "execution_count": 3,
   "id": "d82490e3-17a5-4d45-80ab-8a00fa110312",
   "metadata": {},
   "outputs": [],
   "source": [
    "HR_ANALYSIS_PATH = os.path.join(\"../input/aug_train.csv\")"
   ]
  },
  {
   "cell_type": "markdown",
   "id": "0abc075e-1ab4-432c-8d38-a9834f6a8c0a",
   "metadata": {},
   "source": [
    "## Import Data"
   ]
  },
  {
   "cell_type": "code",
   "execution_count": 4,
   "id": "f69a42ce-4c88-4d12-99b3-ee99e0d01da6",
   "metadata": {},
   "outputs": [
    {
     "data": {
      "text/html": [
       "<div>\n",
       "<style scoped>\n",
       "    .dataframe tbody tr th:only-of-type {\n",
       "        vertical-align: middle;\n",
       "    }\n",
       "\n",
       "    .dataframe tbody tr th {\n",
       "        vertical-align: top;\n",
       "    }\n",
       "\n",
       "    .dataframe thead th {\n",
       "        text-align: right;\n",
       "    }\n",
       "</style>\n",
       "<table border=\"1\" class=\"dataframe\">\n",
       "  <thead>\n",
       "    <tr style=\"text-align: right;\">\n",
       "      <th></th>\n",
       "      <th>enrollee_id</th>\n",
       "      <th>city</th>\n",
       "      <th>city_development_index</th>\n",
       "      <th>gender</th>\n",
       "      <th>relevent_experience</th>\n",
       "      <th>enrolled_university</th>\n",
       "      <th>education_level</th>\n",
       "      <th>major_discipline</th>\n",
       "      <th>experience</th>\n",
       "      <th>company_size</th>\n",
       "      <th>company_type</th>\n",
       "      <th>last_new_job</th>\n",
       "      <th>training_hours</th>\n",
       "      <th>target</th>\n",
       "    </tr>\n",
       "  </thead>\n",
       "  <tbody>\n",
       "    <tr>\n",
       "      <th>0</th>\n",
       "      <td>8949</td>\n",
       "      <td>city_103</td>\n",
       "      <td>0.920</td>\n",
       "      <td>Male</td>\n",
       "      <td>Has relevent experience</td>\n",
       "      <td>no_enrollment</td>\n",
       "      <td>Graduate</td>\n",
       "      <td>STEM</td>\n",
       "      <td>&gt;20</td>\n",
       "      <td>NaN</td>\n",
       "      <td>NaN</td>\n",
       "      <td>1</td>\n",
       "      <td>36</td>\n",
       "      <td>1.0</td>\n",
       "    </tr>\n",
       "    <tr>\n",
       "      <th>1</th>\n",
       "      <td>29725</td>\n",
       "      <td>city_40</td>\n",
       "      <td>0.776</td>\n",
       "      <td>Male</td>\n",
       "      <td>No relevent experience</td>\n",
       "      <td>no_enrollment</td>\n",
       "      <td>Graduate</td>\n",
       "      <td>STEM</td>\n",
       "      <td>15</td>\n",
       "      <td>50-99</td>\n",
       "      <td>Pvt Ltd</td>\n",
       "      <td>&gt;4</td>\n",
       "      <td>47</td>\n",
       "      <td>0.0</td>\n",
       "    </tr>\n",
       "    <tr>\n",
       "      <th>2</th>\n",
       "      <td>11561</td>\n",
       "      <td>city_21</td>\n",
       "      <td>0.624</td>\n",
       "      <td>NaN</td>\n",
       "      <td>No relevent experience</td>\n",
       "      <td>Full time course</td>\n",
       "      <td>Graduate</td>\n",
       "      <td>STEM</td>\n",
       "      <td>5</td>\n",
       "      <td>NaN</td>\n",
       "      <td>NaN</td>\n",
       "      <td>never</td>\n",
       "      <td>83</td>\n",
       "      <td>0.0</td>\n",
       "    </tr>\n",
       "  </tbody>\n",
       "</table>\n",
       "</div>"
      ],
      "text/plain": [
       "   enrollee_id      city  city_development_index gender  \\\n",
       "0         8949  city_103                   0.920   Male   \n",
       "1        29725   city_40                   0.776   Male   \n",
       "2        11561   city_21                   0.624    NaN   \n",
       "\n",
       "       relevent_experience enrolled_university education_level  \\\n",
       "0  Has relevent experience       no_enrollment        Graduate   \n",
       "1   No relevent experience       no_enrollment        Graduate   \n",
       "2   No relevent experience    Full time course        Graduate   \n",
       "\n",
       "  major_discipline experience company_size company_type last_new_job  \\\n",
       "0             STEM        >20          NaN          NaN            1   \n",
       "1             STEM         15        50-99      Pvt Ltd           >4   \n",
       "2             STEM          5          NaN          NaN        never   \n",
       "\n",
       "   training_hours  target  \n",
       "0              36     1.0  \n",
       "1              47     0.0  \n",
       "2              83     0.0  "
      ]
     },
     "execution_count": 4,
     "metadata": {},
     "output_type": "execute_result"
    }
   ],
   "source": [
    "# Import data\n",
    "data = pd.read_csv(HR_ANALYSIS_PATH)\n",
    "data.head(3)"
   ]
  },
  {
   "cell_type": "code",
   "execution_count": 5,
   "id": "409cdab2-6998-4020-80ec-d82ddda7d8b8",
   "metadata": {},
   "outputs": [
    {
     "data": {
      "text/plain": [
       "(19158, 14)"
      ]
     },
     "execution_count": 5,
     "metadata": {},
     "output_type": "execute_result"
    }
   ],
   "source": [
    "data.shape"
   ]
  },
  {
   "cell_type": "markdown",
   "id": "11e679ab-4319-4c52-99f7-d62ed9a345bd",
   "metadata": {},
   "source": [
    "### Handle Missing Values"
   ]
  },
  {
   "cell_type": "markdown",
   "id": "88b43c56-f684-46ba-b6c9-f9046fce5d61",
   "metadata": {},
   "source": [
    "gender has 3410 (23.7%) missing values Missing > Keep as new category \"not_specified\"\n",
    "\n",
    "major_discipline has 2105 (14.7%) missing values + imbalanced > SKIP!\n",
    "\n",
    "company_size has 4475 (31.1%) missing values > Keep as new category \"not_specified\"\n",
    "\n",
    "company_type has 4628 (32.2%) missing value + imbalanced > SKIP!\n",
    "\n",
    "major_discipline > imbalanced > SKIP!"
   ]
  },
  {
   "cell_type": "code",
   "execution_count": 6,
   "id": "108d99ee-3d41-4c89-9196-d7634d17b199",
   "metadata": {},
   "outputs": [
    {
     "data": {
      "text/html": [
       "<div>\n",
       "<style scoped>\n",
       "    .dataframe tbody tr th:only-of-type {\n",
       "        vertical-align: middle;\n",
       "    }\n",
       "\n",
       "    .dataframe tbody tr th {\n",
       "        vertical-align: top;\n",
       "    }\n",
       "\n",
       "    .dataframe thead th {\n",
       "        text-align: right;\n",
       "    }\n",
       "</style>\n",
       "<table border=\"1\" class=\"dataframe\">\n",
       "  <thead>\n",
       "    <tr style=\"text-align: right;\">\n",
       "      <th></th>\n",
       "      <th>enrollee_id</th>\n",
       "      <th>city</th>\n",
       "      <th>city_development_index</th>\n",
       "      <th>gender</th>\n",
       "      <th>relevent_experience</th>\n",
       "      <th>enrolled_university</th>\n",
       "      <th>education_level</th>\n",
       "      <th>major_discipline</th>\n",
       "      <th>experience</th>\n",
       "      <th>company_size</th>\n",
       "      <th>company_type</th>\n",
       "      <th>last_new_job</th>\n",
       "      <th>training_hours</th>\n",
       "      <th>target</th>\n",
       "    </tr>\n",
       "  </thead>\n",
       "  <tbody>\n",
       "    <tr>\n",
       "      <th>0</th>\n",
       "      <td>8949</td>\n",
       "      <td>city_103</td>\n",
       "      <td>0.920</td>\n",
       "      <td>Male</td>\n",
       "      <td>Has relevent experience</td>\n",
       "      <td>no_enrollment</td>\n",
       "      <td>Graduate</td>\n",
       "      <td>STEM</td>\n",
       "      <td>&gt;20</td>\n",
       "      <td>not_specified</td>\n",
       "      <td>NaN</td>\n",
       "      <td>1</td>\n",
       "      <td>36</td>\n",
       "      <td>1.0</td>\n",
       "    </tr>\n",
       "    <tr>\n",
       "      <th>1</th>\n",
       "      <td>29725</td>\n",
       "      <td>city_40</td>\n",
       "      <td>0.776</td>\n",
       "      <td>Male</td>\n",
       "      <td>No relevent experience</td>\n",
       "      <td>no_enrollment</td>\n",
       "      <td>Graduate</td>\n",
       "      <td>STEM</td>\n",
       "      <td>15</td>\n",
       "      <td>50-99</td>\n",
       "      <td>Pvt Ltd</td>\n",
       "      <td>&gt;4</td>\n",
       "      <td>47</td>\n",
       "      <td>0.0</td>\n",
       "    </tr>\n",
       "    <tr>\n",
       "      <th>2</th>\n",
       "      <td>11561</td>\n",
       "      <td>city_21</td>\n",
       "      <td>0.624</td>\n",
       "      <td>not_specified</td>\n",
       "      <td>No relevent experience</td>\n",
       "      <td>Full time course</td>\n",
       "      <td>Graduate</td>\n",
       "      <td>STEM</td>\n",
       "      <td>5</td>\n",
       "      <td>not_specified</td>\n",
       "      <td>NaN</td>\n",
       "      <td>never</td>\n",
       "      <td>83</td>\n",
       "      <td>0.0</td>\n",
       "    </tr>\n",
       "  </tbody>\n",
       "</table>\n",
       "</div>"
      ],
      "text/plain": [
       "   enrollee_id      city  city_development_index         gender  \\\n",
       "0         8949  city_103                   0.920           Male   \n",
       "1        29725   city_40                   0.776           Male   \n",
       "2        11561   city_21                   0.624  not_specified   \n",
       "\n",
       "       relevent_experience enrolled_university education_level  \\\n",
       "0  Has relevent experience       no_enrollment        Graduate   \n",
       "1   No relevent experience       no_enrollment        Graduate   \n",
       "2   No relevent experience    Full time course        Graduate   \n",
       "\n",
       "  major_discipline experience   company_size company_type last_new_job  \\\n",
       "0             STEM        >20  not_specified          NaN            1   \n",
       "1             STEM         15          50-99      Pvt Ltd           >4   \n",
       "2             STEM          5  not_specified          NaN        never   \n",
       "\n",
       "   training_hours  target  \n",
       "0              36     1.0  \n",
       "1              47     0.0  \n",
       "2              83     0.0  "
      ]
     },
     "execution_count": 6,
     "metadata": {},
     "output_type": "execute_result"
    }
   ],
   "source": [
    "values = {'gender': 'not_specified', 'company_size': 'not_specified'}\n",
    "data = data.fillna(value = values)\n",
    "data.head(3)"
   ]
  },
  {
   "cell_type": "code",
   "execution_count": 7,
   "id": "e7679c67-ea84-4975-af71-e15bf17fe44b",
   "metadata": {},
   "outputs": [
    {
     "data": {
      "text/html": [
       "<div>\n",
       "<style scoped>\n",
       "    .dataframe tbody tr th:only-of-type {\n",
       "        vertical-align: middle;\n",
       "    }\n",
       "\n",
       "    .dataframe tbody tr th {\n",
       "        vertical-align: top;\n",
       "    }\n",
       "\n",
       "    .dataframe thead th {\n",
       "        text-align: right;\n",
       "    }\n",
       "</style>\n",
       "<table border=\"1\" class=\"dataframe\">\n",
       "  <thead>\n",
       "    <tr style=\"text-align: right;\">\n",
       "      <th></th>\n",
       "      <th>enrollee_id</th>\n",
       "      <th>city</th>\n",
       "      <th>city_development_index</th>\n",
       "      <th>gender</th>\n",
       "      <th>relevent_experience</th>\n",
       "      <th>enrolled_university</th>\n",
       "      <th>education_level</th>\n",
       "      <th>major_discipline</th>\n",
       "      <th>experience</th>\n",
       "      <th>company_size</th>\n",
       "      <th>company_type</th>\n",
       "      <th>last_new_job</th>\n",
       "      <th>training_hours</th>\n",
       "      <th>target</th>\n",
       "    </tr>\n",
       "  </thead>\n",
       "  <tbody>\n",
       "  </tbody>\n",
       "</table>\n",
       "</div>"
      ],
      "text/plain": [
       "Empty DataFrame\n",
       "Columns: [enrollee_id, city, city_development_index, gender, relevent_experience, enrolled_university, education_level, major_discipline, experience, company_size, company_type, last_new_job, training_hours, target]\n",
       "Index: []"
      ]
     },
     "execution_count": 7,
     "metadata": {},
     "output_type": "execute_result"
    }
   ],
   "source": [
    "# Check for duplicate rows\n",
    "duplicateRows = data[data.duplicated(['enrollee_id'])]\n",
    "duplicateRows"
   ]
  },
  {
   "cell_type": "markdown",
   "id": "b8e42449-6106-48d4-9803-b096e8576d7f",
   "metadata": {},
   "source": [
    "## Train Test Split"
   ]
  },
  {
   "cell_type": "code",
   "execution_count": 8,
   "id": "83a29a2e-c292-475d-8049-f4ebb92758a7",
   "metadata": {},
   "outputs": [],
   "source": [
    "df_train, df_test = train_test_split(data, random_state=42)"
   ]
  },
  {
   "cell_type": "code",
   "execution_count": 9,
   "id": "b61dc0cd-f75a-4e94-a45a-9701ea622587",
   "metadata": {},
   "outputs": [],
   "source": [
    "X_train = df_train.drop(columns=['target']) # independant features\n",
    "y_train = df_train['target'] # dependant variable"
   ]
  },
  {
   "cell_type": "code",
   "execution_count": 10,
   "id": "565e5ac3-48ea-463b-9524-7cae7158f3a1",
   "metadata": {},
   "outputs": [
    {
     "data": {
      "text/html": [
       "<div>\n",
       "<style scoped>\n",
       "    .dataframe tbody tr th:only-of-type {\n",
       "        vertical-align: middle;\n",
       "    }\n",
       "\n",
       "    .dataframe tbody tr th {\n",
       "        vertical-align: top;\n",
       "    }\n",
       "\n",
       "    .dataframe thead th {\n",
       "        text-align: right;\n",
       "    }\n",
       "</style>\n",
       "<table border=\"1\" class=\"dataframe\">\n",
       "  <thead>\n",
       "    <tr style=\"text-align: right;\">\n",
       "      <th></th>\n",
       "      <th>enrollee_id</th>\n",
       "      <th>city</th>\n",
       "      <th>city_development_index</th>\n",
       "      <th>gender</th>\n",
       "      <th>relevent_experience</th>\n",
       "      <th>enrolled_university</th>\n",
       "      <th>education_level</th>\n",
       "      <th>major_discipline</th>\n",
       "      <th>experience</th>\n",
       "      <th>company_size</th>\n",
       "      <th>company_type</th>\n",
       "      <th>last_new_job</th>\n",
       "      <th>training_hours</th>\n",
       "      <th>target</th>\n",
       "    </tr>\n",
       "  </thead>\n",
       "  <tbody>\n",
       "    <tr>\n",
       "      <th>3063</th>\n",
       "      <td>1426</td>\n",
       "      <td>city_16</td>\n",
       "      <td>0.910</td>\n",
       "      <td>not_specified</td>\n",
       "      <td>No relevent experience</td>\n",
       "      <td>no_enrollment</td>\n",
       "      <td>Graduate</td>\n",
       "      <td>Humanities</td>\n",
       "      <td>&lt;1</td>\n",
       "      <td>50-99</td>\n",
       "      <td>Pvt Ltd</td>\n",
       "      <td>1</td>\n",
       "      <td>72</td>\n",
       "      <td>0.0</td>\n",
       "    </tr>\n",
       "    <tr>\n",
       "      <th>11518</th>\n",
       "      <td>20023</td>\n",
       "      <td>city_111</td>\n",
       "      <td>0.698</td>\n",
       "      <td>not_specified</td>\n",
       "      <td>Has relevent experience</td>\n",
       "      <td>Full time course</td>\n",
       "      <td>Graduate</td>\n",
       "      <td>STEM</td>\n",
       "      <td>7</td>\n",
       "      <td>500-999</td>\n",
       "      <td>NGO</td>\n",
       "      <td>1</td>\n",
       "      <td>8</td>\n",
       "      <td>0.0</td>\n",
       "    </tr>\n",
       "    <tr>\n",
       "      <th>5665</th>\n",
       "      <td>11714</td>\n",
       "      <td>city_100</td>\n",
       "      <td>0.887</td>\n",
       "      <td>not_specified</td>\n",
       "      <td>No relevent experience</td>\n",
       "      <td>Full time course</td>\n",
       "      <td>Graduate</td>\n",
       "      <td>STEM</td>\n",
       "      <td>6</td>\n",
       "      <td>not_specified</td>\n",
       "      <td>NaN</td>\n",
       "      <td>never</td>\n",
       "      <td>42</td>\n",
       "      <td>1.0</td>\n",
       "    </tr>\n",
       "  </tbody>\n",
       "</table>\n",
       "</div>"
      ],
      "text/plain": [
       "       enrollee_id      city  city_development_index         gender  \\\n",
       "3063          1426   city_16                   0.910  not_specified   \n",
       "11518        20023  city_111                   0.698  not_specified   \n",
       "5665         11714  city_100                   0.887  not_specified   \n",
       "\n",
       "           relevent_experience enrolled_university education_level  \\\n",
       "3063    No relevent experience       no_enrollment        Graduate   \n",
       "11518  Has relevent experience    Full time course        Graduate   \n",
       "5665    No relevent experience    Full time course        Graduate   \n",
       "\n",
       "      major_discipline experience   company_size company_type last_new_job  \\\n",
       "3063        Humanities         <1          50-99      Pvt Ltd            1   \n",
       "11518             STEM          7        500-999          NGO            1   \n",
       "5665              STEM          6  not_specified          NaN        never   \n",
       "\n",
       "       training_hours  target  \n",
       "3063               72     0.0  \n",
       "11518               8     0.0  \n",
       "5665               42     1.0  "
      ]
     },
     "execution_count": 10,
     "metadata": {},
     "output_type": "execute_result"
    }
   ],
   "source": [
    "df_train.head(3)"
   ]
  },
  {
   "cell_type": "code",
   "execution_count": 11,
   "id": "5ad6d180-4b40-4149-8a57-8038b273f556",
   "metadata": {},
   "outputs": [
    {
     "data": {
      "text/plain": [
       "(14368, 14)"
      ]
     },
     "execution_count": 11,
     "metadata": {},
     "output_type": "execute_result"
    }
   ],
   "source": [
    "df_train.shape"
   ]
  },
  {
   "cell_type": "code",
   "execution_count": 12,
   "id": "470b1411-24de-4081-881b-5f1ea8ffd08c",
   "metadata": {},
   "outputs": [
    {
     "data": {
      "text/html": [
       "<div>\n",
       "<style scoped>\n",
       "    .dataframe tbody tr th:only-of-type {\n",
       "        vertical-align: middle;\n",
       "    }\n",
       "\n",
       "    .dataframe tbody tr th {\n",
       "        vertical-align: top;\n",
       "    }\n",
       "\n",
       "    .dataframe thead th {\n",
       "        text-align: right;\n",
       "    }\n",
       "</style>\n",
       "<table border=\"1\" class=\"dataframe\">\n",
       "  <thead>\n",
       "    <tr style=\"text-align: right;\">\n",
       "      <th></th>\n",
       "      <th>enrollee_id</th>\n",
       "      <th>city</th>\n",
       "      <th>city_development_index</th>\n",
       "      <th>gender</th>\n",
       "      <th>relevent_experience</th>\n",
       "      <th>enrolled_university</th>\n",
       "      <th>education_level</th>\n",
       "      <th>major_discipline</th>\n",
       "      <th>experience</th>\n",
       "      <th>company_size</th>\n",
       "      <th>company_type</th>\n",
       "      <th>last_new_job</th>\n",
       "      <th>training_hours</th>\n",
       "      <th>target</th>\n",
       "    </tr>\n",
       "  </thead>\n",
       "  <tbody>\n",
       "    <tr>\n",
       "      <th>16144</th>\n",
       "      <td>6992</td>\n",
       "      <td>city_16</td>\n",
       "      <td>0.910</td>\n",
       "      <td>not_specified</td>\n",
       "      <td>Has relevent experience</td>\n",
       "      <td>no_enrollment</td>\n",
       "      <td>Graduate</td>\n",
       "      <td>STEM</td>\n",
       "      <td>6</td>\n",
       "      <td>500-999</td>\n",
       "      <td>Pvt Ltd</td>\n",
       "      <td>1</td>\n",
       "      <td>21</td>\n",
       "      <td>0.0</td>\n",
       "    </tr>\n",
       "    <tr>\n",
       "      <th>13661</th>\n",
       "      <td>8637</td>\n",
       "      <td>city_103</td>\n",
       "      <td>0.920</td>\n",
       "      <td>Female</td>\n",
       "      <td>Has relevent experience</td>\n",
       "      <td>no_enrollment</td>\n",
       "      <td>Masters</td>\n",
       "      <td>Humanities</td>\n",
       "      <td>&gt;20</td>\n",
       "      <td>100-500</td>\n",
       "      <td>Funded Startup</td>\n",
       "      <td>2</td>\n",
       "      <td>74</td>\n",
       "      <td>0.0</td>\n",
       "    </tr>\n",
       "    <tr>\n",
       "      <th>344</th>\n",
       "      <td>24729</td>\n",
       "      <td>city_104</td>\n",
       "      <td>0.924</td>\n",
       "      <td>not_specified</td>\n",
       "      <td>Has relevent experience</td>\n",
       "      <td>no_enrollment</td>\n",
       "      <td>Graduate</td>\n",
       "      <td>STEM</td>\n",
       "      <td>9</td>\n",
       "      <td>10/49</td>\n",
       "      <td>Pvt Ltd</td>\n",
       "      <td>1</td>\n",
       "      <td>94</td>\n",
       "      <td>0.0</td>\n",
       "    </tr>\n",
       "  </tbody>\n",
       "</table>\n",
       "</div>"
      ],
      "text/plain": [
       "       enrollee_id      city  city_development_index         gender  \\\n",
       "16144         6992   city_16                   0.910  not_specified   \n",
       "13661         8637  city_103                   0.920         Female   \n",
       "344          24729  city_104                   0.924  not_specified   \n",
       "\n",
       "           relevent_experience enrolled_university education_level  \\\n",
       "16144  Has relevent experience       no_enrollment        Graduate   \n",
       "13661  Has relevent experience       no_enrollment         Masters   \n",
       "344    Has relevent experience       no_enrollment        Graduate   \n",
       "\n",
       "      major_discipline experience company_size    company_type last_new_job  \\\n",
       "16144             STEM          6      500-999         Pvt Ltd            1   \n",
       "13661       Humanities        >20      100-500  Funded Startup            2   \n",
       "344               STEM          9        10/49         Pvt Ltd            1   \n",
       "\n",
       "       training_hours  target  \n",
       "16144              21     0.0  \n",
       "13661              74     0.0  \n",
       "344                94     0.0  "
      ]
     },
     "execution_count": 12,
     "metadata": {},
     "output_type": "execute_result"
    }
   ],
   "source": [
    "df_test.head(3)"
   ]
  },
  {
   "cell_type": "code",
   "execution_count": 13,
   "id": "08fb41de-3269-4860-b1de-998664e25461",
   "metadata": {},
   "outputs": [
    {
     "data": {
      "text/plain": [
       "(4790, 14)"
      ]
     },
     "execution_count": 13,
     "metadata": {},
     "output_type": "execute_result"
    }
   ],
   "source": [
    "df_test.shape"
   ]
  },
  {
   "cell_type": "code",
   "execution_count": 14,
   "id": "6972949a-c867-465a-8ed1-72c81a28dda8",
   "metadata": {},
   "outputs": [],
   "source": [
    "#X_train.head(3)"
   ]
  },
  {
   "cell_type": "code",
   "execution_count": 15,
   "id": "aafc7011-0e59-4130-bee3-404e5c1a86ed",
   "metadata": {},
   "outputs": [
    {
     "data": {
      "text/plain": [
       "(14368, 13)"
      ]
     },
     "execution_count": 15,
     "metadata": {},
     "output_type": "execute_result"
    }
   ],
   "source": [
    "X_train.shape"
   ]
  },
  {
   "cell_type": "code",
   "execution_count": 16,
   "id": "fc1aead8-96bb-4f1c-beae-cc4cf5407adb",
   "metadata": {},
   "outputs": [
    {
     "data": {
      "text/plain": [
       "(14368,)"
      ]
     },
     "execution_count": 16,
     "metadata": {},
     "output_type": "execute_result"
    }
   ],
   "source": [
    "y_train.shape"
   ]
  },
  {
   "cell_type": "markdown",
   "id": "a75b107d-3327-4b86-8782-9230ac691137",
   "metadata": {},
   "source": [
    "## Transformation Train Data"
   ]
  },
  {
   "cell_type": "markdown",
   "id": "29278ca4-c339-4fc8-9410-091f394f0d7f",
   "metadata": {},
   "source": [
    "### Transformation pipeline 1 \n",
    "\n",
    "- Simple Imputer (numeric and categorical values)\n",
    "\n",
    "- StandardScaler (numeric values)\n",
    "\n",
    "- OneHotEncoder (categorical values)"
   ]
  },
  {
   "cell_type": "code",
   "execution_count": 17,
   "id": "9eb9bb23-38e5-44e1-af41-0715a3c21a11",
   "metadata": {},
   "outputs": [
    {
     "data": {
      "text/html": [
       "<div>\n",
       "<style scoped>\n",
       "    .dataframe tbody tr th:only-of-type {\n",
       "        vertical-align: middle;\n",
       "    }\n",
       "\n",
       "    .dataframe tbody tr th {\n",
       "        vertical-align: top;\n",
       "    }\n",
       "\n",
       "    .dataframe thead th {\n",
       "        text-align: right;\n",
       "    }\n",
       "</style>\n",
       "<table border=\"1\" class=\"dataframe\">\n",
       "  <thead>\n",
       "    <tr style=\"text-align: right;\">\n",
       "      <th></th>\n",
       "      <th>enrollee_id</th>\n",
       "      <th>city</th>\n",
       "      <th>city_development_index</th>\n",
       "      <th>gender</th>\n",
       "      <th>relevent_experience</th>\n",
       "      <th>enrolled_university</th>\n",
       "      <th>education_level</th>\n",
       "      <th>major_discipline</th>\n",
       "      <th>experience</th>\n",
       "      <th>company_size</th>\n",
       "      <th>company_type</th>\n",
       "      <th>last_new_job</th>\n",
       "      <th>training_hours</th>\n",
       "      <th>target</th>\n",
       "    </tr>\n",
       "  </thead>\n",
       "  <tbody>\n",
       "    <tr>\n",
       "      <th>3063</th>\n",
       "      <td>1426</td>\n",
       "      <td>city_16</td>\n",
       "      <td>0.910</td>\n",
       "      <td>not_specified</td>\n",
       "      <td>No relevent experience</td>\n",
       "      <td>no_enrollment</td>\n",
       "      <td>Graduate</td>\n",
       "      <td>Humanities</td>\n",
       "      <td>&lt;1</td>\n",
       "      <td>50-99</td>\n",
       "      <td>Pvt Ltd</td>\n",
       "      <td>1</td>\n",
       "      <td>72</td>\n",
       "      <td>0.0</td>\n",
       "    </tr>\n",
       "    <tr>\n",
       "      <th>11518</th>\n",
       "      <td>20023</td>\n",
       "      <td>city_111</td>\n",
       "      <td>0.698</td>\n",
       "      <td>not_specified</td>\n",
       "      <td>Has relevent experience</td>\n",
       "      <td>Full time course</td>\n",
       "      <td>Graduate</td>\n",
       "      <td>STEM</td>\n",
       "      <td>7</td>\n",
       "      <td>500-999</td>\n",
       "      <td>NGO</td>\n",
       "      <td>1</td>\n",
       "      <td>8</td>\n",
       "      <td>0.0</td>\n",
       "    </tr>\n",
       "    <tr>\n",
       "      <th>5665</th>\n",
       "      <td>11714</td>\n",
       "      <td>city_100</td>\n",
       "      <td>0.887</td>\n",
       "      <td>not_specified</td>\n",
       "      <td>No relevent experience</td>\n",
       "      <td>Full time course</td>\n",
       "      <td>Graduate</td>\n",
       "      <td>STEM</td>\n",
       "      <td>6</td>\n",
       "      <td>not_specified</td>\n",
       "      <td>NaN</td>\n",
       "      <td>never</td>\n",
       "      <td>42</td>\n",
       "      <td>1.0</td>\n",
       "    </tr>\n",
       "  </tbody>\n",
       "</table>\n",
       "</div>"
      ],
      "text/plain": [
       "       enrollee_id      city  city_development_index         gender  \\\n",
       "3063          1426   city_16                   0.910  not_specified   \n",
       "11518        20023  city_111                   0.698  not_specified   \n",
       "5665         11714  city_100                   0.887  not_specified   \n",
       "\n",
       "           relevent_experience enrolled_university education_level  \\\n",
       "3063    No relevent experience       no_enrollment        Graduate   \n",
       "11518  Has relevent experience    Full time course        Graduate   \n",
       "5665    No relevent experience    Full time course        Graduate   \n",
       "\n",
       "      major_discipline experience   company_size company_type last_new_job  \\\n",
       "3063        Humanities         <1          50-99      Pvt Ltd            1   \n",
       "11518             STEM          7        500-999          NGO            1   \n",
       "5665              STEM          6  not_specified          NaN        never   \n",
       "\n",
       "       training_hours  target  \n",
       "3063               72     0.0  \n",
       "11518               8     0.0  \n",
       "5665               42     1.0  "
      ]
     },
     "execution_count": 17,
     "metadata": {},
     "output_type": "execute_result"
    }
   ],
   "source": [
    "df_train.head(3)"
   ]
  },
  {
   "cell_type": "code",
   "execution_count": 18,
   "id": "d3426ae0-ff27-45c7-838e-df81051c5466",
   "metadata": {},
   "outputs": [],
   "source": [
    "# categorical values:\n",
    "cat_cols1 = ['city', 'gender', 'relevent_experience', 'enrolled_university', 'education_level', \n",
    "            'experience', 'company_size', 'company_type', 'last_new_job']\n",
    "# numeric values:\n",
    "num_cols1 = ['city_development_index', 'training_hours']\n",
    "\n",
    "# target values:\n",
    "target_col = 'target'"
   ]
  },
  {
   "cell_type": "code",
   "execution_count": 19,
   "id": "e6e46ac2-1c08-47ee-893a-055f20c2f44e",
   "metadata": {},
   "outputs": [],
   "source": [
    "num_pipeline1 = Pipeline([\n",
    "    (\"simple_imp\", SimpleImputer()),\n",
    "    (\"std_scaler\", StandardScaler())\n",
    "])"
   ]
  },
  {
   "cell_type": "code",
   "execution_count": 20,
   "id": "10a546af-6455-408d-a881-f75e27fbe458",
   "metadata": {},
   "outputs": [],
   "source": [
    "cat_pipeline1 = Pipeline([\n",
    "    (\"simple_imp\", SimpleImputer(missing_values = np.nan, strategy = 'most_frequent', fill_value=str)),\n",
    "    (\"one_hot\", OneHotEncoder(sparse= False, handle_unknown='ignore'))\n",
    "])"
   ]
  },
  {
   "cell_type": "code",
   "execution_count": 21,
   "id": "74d3d0a3-7122-41d6-a5d2-26c597eaba49",
   "metadata": {},
   "outputs": [
    {
     "data": {
      "text/html": [
       "<style>#sk-976f9ce8-62c4-43ac-b79b-4fc12471132d {color: black;background-color: white;}#sk-976f9ce8-62c4-43ac-b79b-4fc12471132d pre{padding: 0;}#sk-976f9ce8-62c4-43ac-b79b-4fc12471132d div.sk-toggleable {background-color: white;}#sk-976f9ce8-62c4-43ac-b79b-4fc12471132d label.sk-toggleable__label {cursor: pointer;display: block;width: 100%;margin-bottom: 0;padding: 0.3em;box-sizing: border-box;text-align: center;}#sk-976f9ce8-62c4-43ac-b79b-4fc12471132d label.sk-toggleable__label-arrow:before {content: \"▸\";float: left;margin-right: 0.25em;color: #696969;}#sk-976f9ce8-62c4-43ac-b79b-4fc12471132d label.sk-toggleable__label-arrow:hover:before {color: black;}#sk-976f9ce8-62c4-43ac-b79b-4fc12471132d div.sk-estimator:hover label.sk-toggleable__label-arrow:before {color: black;}#sk-976f9ce8-62c4-43ac-b79b-4fc12471132d div.sk-toggleable__content {max-height: 0;max-width: 0;overflow: hidden;text-align: left;background-color: #f0f8ff;}#sk-976f9ce8-62c4-43ac-b79b-4fc12471132d div.sk-toggleable__content pre {margin: 0.2em;color: black;border-radius: 0.25em;background-color: #f0f8ff;}#sk-976f9ce8-62c4-43ac-b79b-4fc12471132d input.sk-toggleable__control:checked~div.sk-toggleable__content {max-height: 200px;max-width: 100%;overflow: auto;}#sk-976f9ce8-62c4-43ac-b79b-4fc12471132d input.sk-toggleable__control:checked~label.sk-toggleable__label-arrow:before {content: \"▾\";}#sk-976f9ce8-62c4-43ac-b79b-4fc12471132d div.sk-estimator input.sk-toggleable__control:checked~label.sk-toggleable__label {background-color: #d4ebff;}#sk-976f9ce8-62c4-43ac-b79b-4fc12471132d div.sk-label input.sk-toggleable__control:checked~label.sk-toggleable__label {background-color: #d4ebff;}#sk-976f9ce8-62c4-43ac-b79b-4fc12471132d input.sk-hidden--visually {border: 0;clip: rect(1px 1px 1px 1px);clip: rect(1px, 1px, 1px, 1px);height: 1px;margin: -1px;overflow: hidden;padding: 0;position: absolute;width: 1px;}#sk-976f9ce8-62c4-43ac-b79b-4fc12471132d div.sk-estimator {font-family: monospace;background-color: #f0f8ff;border: 1px dotted black;border-radius: 0.25em;box-sizing: border-box;margin-bottom: 0.5em;}#sk-976f9ce8-62c4-43ac-b79b-4fc12471132d div.sk-estimator:hover {background-color: #d4ebff;}#sk-976f9ce8-62c4-43ac-b79b-4fc12471132d div.sk-parallel-item::after {content: \"\";width: 100%;border-bottom: 1px solid gray;flex-grow: 1;}#sk-976f9ce8-62c4-43ac-b79b-4fc12471132d div.sk-label:hover label.sk-toggleable__label {background-color: #d4ebff;}#sk-976f9ce8-62c4-43ac-b79b-4fc12471132d div.sk-serial::before {content: \"\";position: absolute;border-left: 1px solid gray;box-sizing: border-box;top: 2em;bottom: 0;left: 50%;}#sk-976f9ce8-62c4-43ac-b79b-4fc12471132d div.sk-serial {display: flex;flex-direction: column;align-items: center;background-color: white;padding-right: 0.2em;padding-left: 0.2em;}#sk-976f9ce8-62c4-43ac-b79b-4fc12471132d div.sk-item {z-index: 1;}#sk-976f9ce8-62c4-43ac-b79b-4fc12471132d div.sk-parallel {display: flex;align-items: stretch;justify-content: center;background-color: white;}#sk-976f9ce8-62c4-43ac-b79b-4fc12471132d div.sk-parallel::before {content: \"\";position: absolute;border-left: 1px solid gray;box-sizing: border-box;top: 2em;bottom: 0;left: 50%;}#sk-976f9ce8-62c4-43ac-b79b-4fc12471132d div.sk-parallel-item {display: flex;flex-direction: column;position: relative;background-color: white;}#sk-976f9ce8-62c4-43ac-b79b-4fc12471132d div.sk-parallel-item:first-child::after {align-self: flex-end;width: 50%;}#sk-976f9ce8-62c4-43ac-b79b-4fc12471132d div.sk-parallel-item:last-child::after {align-self: flex-start;width: 50%;}#sk-976f9ce8-62c4-43ac-b79b-4fc12471132d div.sk-parallel-item:only-child::after {width: 0;}#sk-976f9ce8-62c4-43ac-b79b-4fc12471132d div.sk-dashed-wrapped {border: 1px dashed gray;margin: 0 0.4em 0.5em 0.4em;box-sizing: border-box;padding-bottom: 0.4em;background-color: white;position: relative;}#sk-976f9ce8-62c4-43ac-b79b-4fc12471132d div.sk-label label {font-family: monospace;font-weight: bold;background-color: white;display: inline-block;line-height: 1.2em;}#sk-976f9ce8-62c4-43ac-b79b-4fc12471132d div.sk-label-container {position: relative;z-index: 2;text-align: center;}#sk-976f9ce8-62c4-43ac-b79b-4fc12471132d div.sk-container {/* jupyter's `normalize.less` sets `[hidden] { display: none; }` but bootstrap.min.css set `[hidden] { display: none !important; }` so we also need the `!important` here to be able to override the default hidden behavior on the sphinx rendered scikit-learn.org. See: https://github.com/scikit-learn/scikit-learn/issues/21755 */display: inline-block !important;position: relative;}#sk-976f9ce8-62c4-43ac-b79b-4fc12471132d div.sk-text-repr-fallback {display: none;}</style><div id=\"sk-976f9ce8-62c4-43ac-b79b-4fc12471132d\" class=\"sk-top-container\"><div class=\"sk-text-repr-fallback\"><pre>ColumnTransformer(sparse_threshold=0,\n",
       "                  transformers=[(&#x27;num&#x27;,\n",
       "                                 Pipeline(steps=[(&#x27;simple_imp&#x27;,\n",
       "                                                  SimpleImputer()),\n",
       "                                                 (&#x27;std_scaler&#x27;,\n",
       "                                                  StandardScaler())]),\n",
       "                                 [&#x27;city_development_index&#x27;, &#x27;training_hours&#x27;]),\n",
       "                                (&#x27;cat&#x27;,\n",
       "                                 Pipeline(steps=[(&#x27;simple_imp&#x27;,\n",
       "                                                  SimpleImputer(fill_value=&lt;class &#x27;str&#x27;&gt;,\n",
       "                                                                strategy=&#x27;most_frequent&#x27;)),\n",
       "                                                 (&#x27;one_hot&#x27;,\n",
       "                                                  OneHotEncoder(handle_unknown=&#x27;ignore&#x27;,\n",
       "                                                                sparse=False))]),\n",
       "                                 [&#x27;city&#x27;, &#x27;gender&#x27;, &#x27;relevent_experience&#x27;,\n",
       "                                  &#x27;enrolled_university&#x27;, &#x27;education_level&#x27;,\n",
       "                                  &#x27;experience&#x27;, &#x27;company_size&#x27;, &#x27;company_type&#x27;,\n",
       "                                  &#x27;last_new_job&#x27;])])</pre><b>Please rerun this cell to show the HTML repr or trust the notebook.</b></div><div class=\"sk-container\" hidden><div class=\"sk-item sk-dashed-wrapped\"><div class=\"sk-label-container\"><div class=\"sk-label sk-toggleable\"><input class=\"sk-toggleable__control sk-hidden--visually\" id=\"043ee811-fd2c-4889-be94-0f9c817cf4ad\" type=\"checkbox\" ><label for=\"043ee811-fd2c-4889-be94-0f9c817cf4ad\" class=\"sk-toggleable__label sk-toggleable__label-arrow\">ColumnTransformer</label><div class=\"sk-toggleable__content\"><pre>ColumnTransformer(sparse_threshold=0,\n",
       "                  transformers=[(&#x27;num&#x27;,\n",
       "                                 Pipeline(steps=[(&#x27;simple_imp&#x27;,\n",
       "                                                  SimpleImputer()),\n",
       "                                                 (&#x27;std_scaler&#x27;,\n",
       "                                                  StandardScaler())]),\n",
       "                                 [&#x27;city_development_index&#x27;, &#x27;training_hours&#x27;]),\n",
       "                                (&#x27;cat&#x27;,\n",
       "                                 Pipeline(steps=[(&#x27;simple_imp&#x27;,\n",
       "                                                  SimpleImputer(fill_value=&lt;class &#x27;str&#x27;&gt;,\n",
       "                                                                strategy=&#x27;most_frequent&#x27;)),\n",
       "                                                 (&#x27;one_hot&#x27;,\n",
       "                                                  OneHotEncoder(handle_unknown=&#x27;ignore&#x27;,\n",
       "                                                                sparse=False))]),\n",
       "                                 [&#x27;city&#x27;, &#x27;gender&#x27;, &#x27;relevent_experience&#x27;,\n",
       "                                  &#x27;enrolled_university&#x27;, &#x27;education_level&#x27;,\n",
       "                                  &#x27;experience&#x27;, &#x27;company_size&#x27;, &#x27;company_type&#x27;,\n",
       "                                  &#x27;last_new_job&#x27;])])</pre></div></div></div><div class=\"sk-parallel\"><div class=\"sk-parallel-item\"><div class=\"sk-item\"><div class=\"sk-label-container\"><div class=\"sk-label sk-toggleable\"><input class=\"sk-toggleable__control sk-hidden--visually\" id=\"f9bff731-07ad-4001-ad03-24bb562ac51b\" type=\"checkbox\" ><label for=\"f9bff731-07ad-4001-ad03-24bb562ac51b\" class=\"sk-toggleable__label sk-toggleable__label-arrow\">num</label><div class=\"sk-toggleable__content\"><pre>[&#x27;city_development_index&#x27;, &#x27;training_hours&#x27;]</pre></div></div></div><div class=\"sk-serial\"><div class=\"sk-item\"><div class=\"sk-serial\"><div class=\"sk-item\"><div class=\"sk-estimator sk-toggleable\"><input class=\"sk-toggleable__control sk-hidden--visually\" id=\"703a81b6-7eba-404d-b0a8-4218b7e0e83d\" type=\"checkbox\" ><label for=\"703a81b6-7eba-404d-b0a8-4218b7e0e83d\" class=\"sk-toggleable__label sk-toggleable__label-arrow\">SimpleImputer</label><div class=\"sk-toggleable__content\"><pre>SimpleImputer()</pre></div></div></div><div class=\"sk-item\"><div class=\"sk-estimator sk-toggleable\"><input class=\"sk-toggleable__control sk-hidden--visually\" id=\"fa1cc827-9df2-4a46-b657-e7664334b147\" type=\"checkbox\" ><label for=\"fa1cc827-9df2-4a46-b657-e7664334b147\" class=\"sk-toggleable__label sk-toggleable__label-arrow\">StandardScaler</label><div class=\"sk-toggleable__content\"><pre>StandardScaler()</pre></div></div></div></div></div></div></div></div><div class=\"sk-parallel-item\"><div class=\"sk-item\"><div class=\"sk-label-container\"><div class=\"sk-label sk-toggleable\"><input class=\"sk-toggleable__control sk-hidden--visually\" id=\"94df73a1-3265-4add-ba39-5879076113a8\" type=\"checkbox\" ><label for=\"94df73a1-3265-4add-ba39-5879076113a8\" class=\"sk-toggleable__label sk-toggleable__label-arrow\">cat</label><div class=\"sk-toggleable__content\"><pre>[&#x27;city&#x27;, &#x27;gender&#x27;, &#x27;relevent_experience&#x27;, &#x27;enrolled_university&#x27;, &#x27;education_level&#x27;, &#x27;experience&#x27;, &#x27;company_size&#x27;, &#x27;company_type&#x27;, &#x27;last_new_job&#x27;]</pre></div></div></div><div class=\"sk-serial\"><div class=\"sk-item\"><div class=\"sk-serial\"><div class=\"sk-item\"><div class=\"sk-estimator sk-toggleable\"><input class=\"sk-toggleable__control sk-hidden--visually\" id=\"59a30f80-bbf4-4f74-beb8-a8c6e9a76ef4\" type=\"checkbox\" ><label for=\"59a30f80-bbf4-4f74-beb8-a8c6e9a76ef4\" class=\"sk-toggleable__label sk-toggleable__label-arrow\">SimpleImputer</label><div class=\"sk-toggleable__content\"><pre>SimpleImputer(fill_value=&lt;class &#x27;str&#x27;&gt;, strategy=&#x27;most_frequent&#x27;)</pre></div></div></div><div class=\"sk-item\"><div class=\"sk-estimator sk-toggleable\"><input class=\"sk-toggleable__control sk-hidden--visually\" id=\"94335338-009c-453b-be11-e75f42c57e8d\" type=\"checkbox\" ><label for=\"94335338-009c-453b-be11-e75f42c57e8d\" class=\"sk-toggleable__label sk-toggleable__label-arrow\">OneHotEncoder</label><div class=\"sk-toggleable__content\"><pre>OneHotEncoder(handle_unknown=&#x27;ignore&#x27;, sparse=False)</pre></div></div></div></div></div></div></div></div></div></div></div></div>"
      ],
      "text/plain": [
       "ColumnTransformer(sparse_threshold=0,\n",
       "                  transformers=[('num',\n",
       "                                 Pipeline(steps=[('simple_imp',\n",
       "                                                  SimpleImputer()),\n",
       "                                                 ('std_scaler',\n",
       "                                                  StandardScaler())]),\n",
       "                                 ['city_development_index', 'training_hours']),\n",
       "                                ('cat',\n",
       "                                 Pipeline(steps=[('simple_imp',\n",
       "                                                  SimpleImputer(fill_value=<class 'str'>,\n",
       "                                                                strategy='most_frequent')),\n",
       "                                                 ('one_hot',\n",
       "                                                  OneHotEncoder(handle_unknown='ignore',\n",
       "                                                                sparse=False))]),\n",
       "                                 ['city', 'gender', 'relevent_experience',\n",
       "                                  'enrolled_university', 'education_level',\n",
       "                                  'experience', 'company_size', 'company_type',\n",
       "                                  'last_new_job'])])"
      ]
     },
     "execution_count": 21,
     "metadata": {},
     "output_type": "execute_result"
    }
   ],
   "source": [
    "# Pipeline 1:\n",
    "pipeline1 = ColumnTransformer([\n",
    "    (\"num\", num_pipeline1, num_cols1),\n",
    "    (\"cat\", cat_pipeline1, cat_cols1),\n",
    "], sparse_threshold=0)\n",
    "\n",
    "# OneHotEncoder cannot deal with missing values > so SimpleImputer is first\n",
    "# Drop=None (default) to keep all columns for decision tree analysis (‘dummy variable trap’)\n",
    "# sparse= False to receive a dense array output\n",
    "set_config(display=\"diagram\")\n",
    "pipeline1"
   ]
  },
  {
   "cell_type": "code",
   "execution_count": 22,
   "id": "4fb285f4-7a82-4d78-8c91-2703da3cbeed",
   "metadata": {},
   "outputs": [
    {
     "data": {
      "text/plain": [
       "(14368, 181)"
      ]
     },
     "execution_count": 22,
     "metadata": {},
     "output_type": "execute_result"
    }
   ],
   "source": [
    "X1 = pipeline1.fit_transform(df_train)\n",
    "X1.shape"
   ]
  },
  {
   "cell_type": "code",
   "execution_count": 23,
   "id": "c6e2c6b9-4fc7-4ab9-b646-9c2067b7f684",
   "metadata": {},
   "outputs": [
    {
     "data": {
      "text/html": [
       "<div>\n",
       "<style scoped>\n",
       "    .dataframe tbody tr th:only-of-type {\n",
       "        vertical-align: middle;\n",
       "    }\n",
       "\n",
       "    .dataframe tbody tr th {\n",
       "        vertical-align: top;\n",
       "    }\n",
       "\n",
       "    .dataframe thead th {\n",
       "        text-align: right;\n",
       "    }\n",
       "</style>\n",
       "<table border=\"1\" class=\"dataframe\">\n",
       "  <thead>\n",
       "    <tr style=\"text-align: right;\">\n",
       "      <th></th>\n",
       "      <th>0</th>\n",
       "      <th>1</th>\n",
       "      <th>2</th>\n",
       "      <th>3</th>\n",
       "      <th>4</th>\n",
       "      <th>5</th>\n",
       "      <th>6</th>\n",
       "      <th>7</th>\n",
       "      <th>8</th>\n",
       "      <th>9</th>\n",
       "      <th>...</th>\n",
       "      <th>171</th>\n",
       "      <th>172</th>\n",
       "      <th>173</th>\n",
       "      <th>174</th>\n",
       "      <th>175</th>\n",
       "      <th>176</th>\n",
       "      <th>177</th>\n",
       "      <th>178</th>\n",
       "      <th>179</th>\n",
       "      <th>180</th>\n",
       "    </tr>\n",
       "  </thead>\n",
       "  <tbody>\n",
       "    <tr>\n",
       "      <th>0</th>\n",
       "      <td>0.659208</td>\n",
       "      <td>0.115908</td>\n",
       "      <td>0.0</td>\n",
       "      <td>0.0</td>\n",
       "      <td>0.0</td>\n",
       "      <td>0.0</td>\n",
       "      <td>0.0</td>\n",
       "      <td>0.0</td>\n",
       "      <td>0.0</td>\n",
       "      <td>0.0</td>\n",
       "      <td>...</td>\n",
       "      <td>0.0</td>\n",
       "      <td>0.0</td>\n",
       "      <td>0.0</td>\n",
       "      <td>1.0</td>\n",
       "      <td>1.0</td>\n",
       "      <td>0.0</td>\n",
       "      <td>0.0</td>\n",
       "      <td>0.0</td>\n",
       "      <td>0.0</td>\n",
       "      <td>0.0</td>\n",
       "    </tr>\n",
       "    <tr>\n",
       "      <th>1</th>\n",
       "      <td>-1.062355</td>\n",
       "      <td>-0.955336</td>\n",
       "      <td>0.0</td>\n",
       "      <td>0.0</td>\n",
       "      <td>0.0</td>\n",
       "      <td>0.0</td>\n",
       "      <td>0.0</td>\n",
       "      <td>0.0</td>\n",
       "      <td>0.0</td>\n",
       "      <td>0.0</td>\n",
       "      <td>...</td>\n",
       "      <td>1.0</td>\n",
       "      <td>0.0</td>\n",
       "      <td>0.0</td>\n",
       "      <td>0.0</td>\n",
       "      <td>1.0</td>\n",
       "      <td>0.0</td>\n",
       "      <td>0.0</td>\n",
       "      <td>0.0</td>\n",
       "      <td>0.0</td>\n",
       "      <td>0.0</td>\n",
       "    </tr>\n",
       "    <tr>\n",
       "      <th>2</th>\n",
       "      <td>0.472435</td>\n",
       "      <td>-0.386238</td>\n",
       "      <td>0.0</td>\n",
       "      <td>0.0</td>\n",
       "      <td>1.0</td>\n",
       "      <td>0.0</td>\n",
       "      <td>0.0</td>\n",
       "      <td>0.0</td>\n",
       "      <td>0.0</td>\n",
       "      <td>0.0</td>\n",
       "      <td>...</td>\n",
       "      <td>0.0</td>\n",
       "      <td>0.0</td>\n",
       "      <td>0.0</td>\n",
       "      <td>1.0</td>\n",
       "      <td>0.0</td>\n",
       "      <td>0.0</td>\n",
       "      <td>0.0</td>\n",
       "      <td>0.0</td>\n",
       "      <td>0.0</td>\n",
       "      <td>1.0</td>\n",
       "    </tr>\n",
       "  </tbody>\n",
       "</table>\n",
       "<p>3 rows × 181 columns</p>\n",
       "</div>"
      ],
      "text/plain": [
       "        0         1    2    3    4    5    6    7    8    9    ...  171  172  \\\n",
       "0  0.659208  0.115908  0.0  0.0  0.0  0.0  0.0  0.0  0.0  0.0  ...  0.0  0.0   \n",
       "1 -1.062355 -0.955336  0.0  0.0  0.0  0.0  0.0  0.0  0.0  0.0  ...  1.0  0.0   \n",
       "2  0.472435 -0.386238  0.0  0.0  1.0  0.0  0.0  0.0  0.0  0.0  ...  0.0  0.0   \n",
       "\n",
       "   173  174  175  176  177  178  179  180  \n",
       "0  0.0  1.0  1.0  0.0  0.0  0.0  0.0  0.0  \n",
       "1  0.0  0.0  1.0  0.0  0.0  0.0  0.0  0.0  \n",
       "2  0.0  1.0  0.0  0.0  0.0  0.0  0.0  1.0  \n",
       "\n",
       "[3 rows x 181 columns]"
      ]
     },
     "execution_count": 23,
     "metadata": {},
     "output_type": "execute_result"
    }
   ],
   "source": [
    "pd.DataFrame(X1).head(3)"
   ]
  },
  {
   "cell_type": "markdown",
   "id": "cc63ee81-7d30-4108-a084-4afdd2bd29bd",
   "metadata": {},
   "source": [
    "### Transformation pipeline 2\n",
    "\n",
    "- Simple Imputer (numeric and categorical values)\n",
    "\n",
    "- MinMaxScaler (numeric values)\n",
    "\n",
    "- OneHotEncoder (categorical values)"
   ]
  },
  {
   "cell_type": "code",
   "execution_count": 24,
   "id": "da23f689-75fb-4192-bddb-bf58db29511f",
   "metadata": {},
   "outputs": [],
   "source": [
    "# categorical values:\n",
    "cat_cols2 = ['city', 'gender', 'relevent_experience', 'enrolled_university', 'education_level', \n",
    "            'experience', 'company_size', 'company_type', 'last_new_job']\n",
    "# numeric values:\n",
    "num_cols2 = ['city_development_index', 'training_hours']\n",
    "\n",
    "# target values:\n",
    "target_col = 'target'"
   ]
  },
  {
   "cell_type": "code",
   "execution_count": 25,
   "id": "ea433df2-53b5-4c12-a859-29c90910f512",
   "metadata": {},
   "outputs": [],
   "source": [
    "num_pipeline2 = Pipeline([\n",
    "    (\"simple_imp\", SimpleImputer()),\n",
    "    (\"min_max\", MinMaxScaler())\n",
    "])"
   ]
  },
  {
   "cell_type": "code",
   "execution_count": 26,
   "id": "ec01db38-ce1c-40d8-bde9-23d9797ffc74",
   "metadata": {},
   "outputs": [],
   "source": [
    "cat_pipeline2 = Pipeline([\n",
    "    (\"simple_imp\", SimpleImputer(missing_values = np.nan, strategy = 'most_frequent', fill_value=str)),\n",
    "    (\"one_hot\", OneHotEncoder(sparse= False, handle_unknown='ignore'))\n",
    "])"
   ]
  },
  {
   "cell_type": "code",
   "execution_count": 27,
   "id": "2b98ea56-7101-4aae-aed7-66a3a4b9fd3e",
   "metadata": {},
   "outputs": [
    {
     "data": {
      "text/html": [
       "<style>#sk-fab1886d-6ca0-4653-8383-fd087c04684b {color: black;background-color: white;}#sk-fab1886d-6ca0-4653-8383-fd087c04684b pre{padding: 0;}#sk-fab1886d-6ca0-4653-8383-fd087c04684b div.sk-toggleable {background-color: white;}#sk-fab1886d-6ca0-4653-8383-fd087c04684b label.sk-toggleable__label {cursor: pointer;display: block;width: 100%;margin-bottom: 0;padding: 0.3em;box-sizing: border-box;text-align: center;}#sk-fab1886d-6ca0-4653-8383-fd087c04684b label.sk-toggleable__label-arrow:before {content: \"▸\";float: left;margin-right: 0.25em;color: #696969;}#sk-fab1886d-6ca0-4653-8383-fd087c04684b label.sk-toggleable__label-arrow:hover:before {color: black;}#sk-fab1886d-6ca0-4653-8383-fd087c04684b div.sk-estimator:hover label.sk-toggleable__label-arrow:before {color: black;}#sk-fab1886d-6ca0-4653-8383-fd087c04684b div.sk-toggleable__content {max-height: 0;max-width: 0;overflow: hidden;text-align: left;background-color: #f0f8ff;}#sk-fab1886d-6ca0-4653-8383-fd087c04684b div.sk-toggleable__content pre {margin: 0.2em;color: black;border-radius: 0.25em;background-color: #f0f8ff;}#sk-fab1886d-6ca0-4653-8383-fd087c04684b input.sk-toggleable__control:checked~div.sk-toggleable__content {max-height: 200px;max-width: 100%;overflow: auto;}#sk-fab1886d-6ca0-4653-8383-fd087c04684b input.sk-toggleable__control:checked~label.sk-toggleable__label-arrow:before {content: \"▾\";}#sk-fab1886d-6ca0-4653-8383-fd087c04684b div.sk-estimator input.sk-toggleable__control:checked~label.sk-toggleable__label {background-color: #d4ebff;}#sk-fab1886d-6ca0-4653-8383-fd087c04684b div.sk-label input.sk-toggleable__control:checked~label.sk-toggleable__label {background-color: #d4ebff;}#sk-fab1886d-6ca0-4653-8383-fd087c04684b input.sk-hidden--visually {border: 0;clip: rect(1px 1px 1px 1px);clip: rect(1px, 1px, 1px, 1px);height: 1px;margin: -1px;overflow: hidden;padding: 0;position: absolute;width: 1px;}#sk-fab1886d-6ca0-4653-8383-fd087c04684b div.sk-estimator {font-family: monospace;background-color: #f0f8ff;border: 1px dotted black;border-radius: 0.25em;box-sizing: border-box;margin-bottom: 0.5em;}#sk-fab1886d-6ca0-4653-8383-fd087c04684b div.sk-estimator:hover {background-color: #d4ebff;}#sk-fab1886d-6ca0-4653-8383-fd087c04684b div.sk-parallel-item::after {content: \"\";width: 100%;border-bottom: 1px solid gray;flex-grow: 1;}#sk-fab1886d-6ca0-4653-8383-fd087c04684b div.sk-label:hover label.sk-toggleable__label {background-color: #d4ebff;}#sk-fab1886d-6ca0-4653-8383-fd087c04684b div.sk-serial::before {content: \"\";position: absolute;border-left: 1px solid gray;box-sizing: border-box;top: 2em;bottom: 0;left: 50%;}#sk-fab1886d-6ca0-4653-8383-fd087c04684b div.sk-serial {display: flex;flex-direction: column;align-items: center;background-color: white;padding-right: 0.2em;padding-left: 0.2em;}#sk-fab1886d-6ca0-4653-8383-fd087c04684b div.sk-item {z-index: 1;}#sk-fab1886d-6ca0-4653-8383-fd087c04684b div.sk-parallel {display: flex;align-items: stretch;justify-content: center;background-color: white;}#sk-fab1886d-6ca0-4653-8383-fd087c04684b div.sk-parallel::before {content: \"\";position: absolute;border-left: 1px solid gray;box-sizing: border-box;top: 2em;bottom: 0;left: 50%;}#sk-fab1886d-6ca0-4653-8383-fd087c04684b div.sk-parallel-item {display: flex;flex-direction: column;position: relative;background-color: white;}#sk-fab1886d-6ca0-4653-8383-fd087c04684b div.sk-parallel-item:first-child::after {align-self: flex-end;width: 50%;}#sk-fab1886d-6ca0-4653-8383-fd087c04684b div.sk-parallel-item:last-child::after {align-self: flex-start;width: 50%;}#sk-fab1886d-6ca0-4653-8383-fd087c04684b div.sk-parallel-item:only-child::after {width: 0;}#sk-fab1886d-6ca0-4653-8383-fd087c04684b div.sk-dashed-wrapped {border: 1px dashed gray;margin: 0 0.4em 0.5em 0.4em;box-sizing: border-box;padding-bottom: 0.4em;background-color: white;position: relative;}#sk-fab1886d-6ca0-4653-8383-fd087c04684b div.sk-label label {font-family: monospace;font-weight: bold;background-color: white;display: inline-block;line-height: 1.2em;}#sk-fab1886d-6ca0-4653-8383-fd087c04684b div.sk-label-container {position: relative;z-index: 2;text-align: center;}#sk-fab1886d-6ca0-4653-8383-fd087c04684b div.sk-container {/* jupyter's `normalize.less` sets `[hidden] { display: none; }` but bootstrap.min.css set `[hidden] { display: none !important; }` so we also need the `!important` here to be able to override the default hidden behavior on the sphinx rendered scikit-learn.org. See: https://github.com/scikit-learn/scikit-learn/issues/21755 */display: inline-block !important;position: relative;}#sk-fab1886d-6ca0-4653-8383-fd087c04684b div.sk-text-repr-fallback {display: none;}</style><div id=\"sk-fab1886d-6ca0-4653-8383-fd087c04684b\" class=\"sk-top-container\"><div class=\"sk-text-repr-fallback\"><pre>ColumnTransformer(sparse_threshold=0,\n",
       "                  transformers=[(&#x27;num&#x27;,\n",
       "                                 Pipeline(steps=[(&#x27;simple_imp&#x27;,\n",
       "                                                  SimpleImputer()),\n",
       "                                                 (&#x27;min_max&#x27;, MinMaxScaler())]),\n",
       "                                 [&#x27;city_development_index&#x27;, &#x27;training_hours&#x27;]),\n",
       "                                (&#x27;cat&#x27;,\n",
       "                                 Pipeline(steps=[(&#x27;simple_imp&#x27;,\n",
       "                                                  SimpleImputer(fill_value=&lt;class &#x27;str&#x27;&gt;,\n",
       "                                                                strategy=&#x27;most_frequent&#x27;)),\n",
       "                                                 (&#x27;one_hot&#x27;,\n",
       "                                                  OneHotEncoder(handle_unknown=&#x27;ignore&#x27;,\n",
       "                                                                sparse=False))]),\n",
       "                                 [&#x27;city&#x27;, &#x27;gender&#x27;, &#x27;relevent_experience&#x27;,\n",
       "                                  &#x27;enrolled_university&#x27;, &#x27;education_level&#x27;,\n",
       "                                  &#x27;experience&#x27;, &#x27;company_size&#x27;, &#x27;company_type&#x27;,\n",
       "                                  &#x27;last_new_job&#x27;])])</pre><b>Please rerun this cell to show the HTML repr or trust the notebook.</b></div><div class=\"sk-container\" hidden><div class=\"sk-item sk-dashed-wrapped\"><div class=\"sk-label-container\"><div class=\"sk-label sk-toggleable\"><input class=\"sk-toggleable__control sk-hidden--visually\" id=\"96d22129-98c2-4550-af34-1d2c928cfdb3\" type=\"checkbox\" ><label for=\"96d22129-98c2-4550-af34-1d2c928cfdb3\" class=\"sk-toggleable__label sk-toggleable__label-arrow\">ColumnTransformer</label><div class=\"sk-toggleable__content\"><pre>ColumnTransformer(sparse_threshold=0,\n",
       "                  transformers=[(&#x27;num&#x27;,\n",
       "                                 Pipeline(steps=[(&#x27;simple_imp&#x27;,\n",
       "                                                  SimpleImputer()),\n",
       "                                                 (&#x27;min_max&#x27;, MinMaxScaler())]),\n",
       "                                 [&#x27;city_development_index&#x27;, &#x27;training_hours&#x27;]),\n",
       "                                (&#x27;cat&#x27;,\n",
       "                                 Pipeline(steps=[(&#x27;simple_imp&#x27;,\n",
       "                                                  SimpleImputer(fill_value=&lt;class &#x27;str&#x27;&gt;,\n",
       "                                                                strategy=&#x27;most_frequent&#x27;)),\n",
       "                                                 (&#x27;one_hot&#x27;,\n",
       "                                                  OneHotEncoder(handle_unknown=&#x27;ignore&#x27;,\n",
       "                                                                sparse=False))]),\n",
       "                                 [&#x27;city&#x27;, &#x27;gender&#x27;, &#x27;relevent_experience&#x27;,\n",
       "                                  &#x27;enrolled_university&#x27;, &#x27;education_level&#x27;,\n",
       "                                  &#x27;experience&#x27;, &#x27;company_size&#x27;, &#x27;company_type&#x27;,\n",
       "                                  &#x27;last_new_job&#x27;])])</pre></div></div></div><div class=\"sk-parallel\"><div class=\"sk-parallel-item\"><div class=\"sk-item\"><div class=\"sk-label-container\"><div class=\"sk-label sk-toggleable\"><input class=\"sk-toggleable__control sk-hidden--visually\" id=\"73f373da-81c5-4449-9c79-1b847f15852e\" type=\"checkbox\" ><label for=\"73f373da-81c5-4449-9c79-1b847f15852e\" class=\"sk-toggleable__label sk-toggleable__label-arrow\">num</label><div class=\"sk-toggleable__content\"><pre>[&#x27;city_development_index&#x27;, &#x27;training_hours&#x27;]</pre></div></div></div><div class=\"sk-serial\"><div class=\"sk-item\"><div class=\"sk-serial\"><div class=\"sk-item\"><div class=\"sk-estimator sk-toggleable\"><input class=\"sk-toggleable__control sk-hidden--visually\" id=\"751429bd-aa92-4c24-a8cb-3b5179e461cd\" type=\"checkbox\" ><label for=\"751429bd-aa92-4c24-a8cb-3b5179e461cd\" class=\"sk-toggleable__label sk-toggleable__label-arrow\">SimpleImputer</label><div class=\"sk-toggleable__content\"><pre>SimpleImputer()</pre></div></div></div><div class=\"sk-item\"><div class=\"sk-estimator sk-toggleable\"><input class=\"sk-toggleable__control sk-hidden--visually\" id=\"3674b10e-b4a2-46cd-ad03-5efd5e575009\" type=\"checkbox\" ><label for=\"3674b10e-b4a2-46cd-ad03-5efd5e575009\" class=\"sk-toggleable__label sk-toggleable__label-arrow\">MinMaxScaler</label><div class=\"sk-toggleable__content\"><pre>MinMaxScaler()</pre></div></div></div></div></div></div></div></div><div class=\"sk-parallel-item\"><div class=\"sk-item\"><div class=\"sk-label-container\"><div class=\"sk-label sk-toggleable\"><input class=\"sk-toggleable__control sk-hidden--visually\" id=\"e7976407-466a-4375-825f-cb7a1abccdfc\" type=\"checkbox\" ><label for=\"e7976407-466a-4375-825f-cb7a1abccdfc\" class=\"sk-toggleable__label sk-toggleable__label-arrow\">cat</label><div class=\"sk-toggleable__content\"><pre>[&#x27;city&#x27;, &#x27;gender&#x27;, &#x27;relevent_experience&#x27;, &#x27;enrolled_university&#x27;, &#x27;education_level&#x27;, &#x27;experience&#x27;, &#x27;company_size&#x27;, &#x27;company_type&#x27;, &#x27;last_new_job&#x27;]</pre></div></div></div><div class=\"sk-serial\"><div class=\"sk-item\"><div class=\"sk-serial\"><div class=\"sk-item\"><div class=\"sk-estimator sk-toggleable\"><input class=\"sk-toggleable__control sk-hidden--visually\" id=\"eac7591e-f393-4ff9-aeb0-68a4f2731d87\" type=\"checkbox\" ><label for=\"eac7591e-f393-4ff9-aeb0-68a4f2731d87\" class=\"sk-toggleable__label sk-toggleable__label-arrow\">SimpleImputer</label><div class=\"sk-toggleable__content\"><pre>SimpleImputer(fill_value=&lt;class &#x27;str&#x27;&gt;, strategy=&#x27;most_frequent&#x27;)</pre></div></div></div><div class=\"sk-item\"><div class=\"sk-estimator sk-toggleable\"><input class=\"sk-toggleable__control sk-hidden--visually\" id=\"b2975738-49f6-4c44-8eb0-68cce5425a1b\" type=\"checkbox\" ><label for=\"b2975738-49f6-4c44-8eb0-68cce5425a1b\" class=\"sk-toggleable__label sk-toggleable__label-arrow\">OneHotEncoder</label><div class=\"sk-toggleable__content\"><pre>OneHotEncoder(handle_unknown=&#x27;ignore&#x27;, sparse=False)</pre></div></div></div></div></div></div></div></div></div></div></div></div>"
      ],
      "text/plain": [
       "ColumnTransformer(sparse_threshold=0,\n",
       "                  transformers=[('num',\n",
       "                                 Pipeline(steps=[('simple_imp',\n",
       "                                                  SimpleImputer()),\n",
       "                                                 ('min_max', MinMaxScaler())]),\n",
       "                                 ['city_development_index', 'training_hours']),\n",
       "                                ('cat',\n",
       "                                 Pipeline(steps=[('simple_imp',\n",
       "                                                  SimpleImputer(fill_value=<class 'str'>,\n",
       "                                                                strategy='most_frequent')),\n",
       "                                                 ('one_hot',\n",
       "                                                  OneHotEncoder(handle_unknown='ignore',\n",
       "                                                                sparse=False))]),\n",
       "                                 ['city', 'gender', 'relevent_experience',\n",
       "                                  'enrolled_university', 'education_level',\n",
       "                                  'experience', 'company_size', 'company_type',\n",
       "                                  'last_new_job'])])"
      ]
     },
     "execution_count": 27,
     "metadata": {},
     "output_type": "execute_result"
    }
   ],
   "source": [
    "# Pipeline 2:\n",
    "pipeline2 = ColumnTransformer([\n",
    "    (\"num\", num_pipeline2, num_cols2),\n",
    "    (\"cat\", cat_pipeline2, cat_cols2),\n",
    "], sparse_threshold=0)\n",
    "\n",
    "pipeline2"
   ]
  },
  {
   "cell_type": "code",
   "execution_count": 28,
   "id": "d70527a1-8a88-42a6-a7f2-86f917de16a7",
   "metadata": {},
   "outputs": [
    {
     "data": {
      "text/plain": [
       "(14368, 181)"
      ]
     },
     "execution_count": 28,
     "metadata": {},
     "output_type": "execute_result"
    }
   ],
   "source": [
    "X2 = pipeline2.fit_transform(df_train)\n",
    "X2.shape"
   ]
  },
  {
   "cell_type": "code",
   "execution_count": 29,
   "id": "4ffbca29-fcbf-4273-9bcb-904f8e52e67b",
   "metadata": {},
   "outputs": [
    {
     "data": {
      "text/html": [
       "<div>\n",
       "<style scoped>\n",
       "    .dataframe tbody tr th:only-of-type {\n",
       "        vertical-align: middle;\n",
       "    }\n",
       "\n",
       "    .dataframe tbody tr th {\n",
       "        vertical-align: top;\n",
       "    }\n",
       "\n",
       "    .dataframe thead th {\n",
       "        text-align: right;\n",
       "    }\n",
       "</style>\n",
       "<table border=\"1\" class=\"dataframe\">\n",
       "  <thead>\n",
       "    <tr style=\"text-align: right;\">\n",
       "      <th></th>\n",
       "      <th>0</th>\n",
       "      <th>1</th>\n",
       "      <th>2</th>\n",
       "      <th>3</th>\n",
       "      <th>4</th>\n",
       "      <th>5</th>\n",
       "      <th>6</th>\n",
       "      <th>7</th>\n",
       "      <th>8</th>\n",
       "      <th>9</th>\n",
       "      <th>...</th>\n",
       "      <th>171</th>\n",
       "      <th>172</th>\n",
       "      <th>173</th>\n",
       "      <th>174</th>\n",
       "      <th>175</th>\n",
       "      <th>176</th>\n",
       "      <th>177</th>\n",
       "      <th>178</th>\n",
       "      <th>179</th>\n",
       "      <th>180</th>\n",
       "    </tr>\n",
       "  </thead>\n",
       "  <tbody>\n",
       "    <tr>\n",
       "      <th>0</th>\n",
       "      <td>0.922156</td>\n",
       "      <td>0.211940</td>\n",
       "      <td>0.0</td>\n",
       "      <td>0.0</td>\n",
       "      <td>0.0</td>\n",
       "      <td>0.0</td>\n",
       "      <td>0.0</td>\n",
       "      <td>0.0</td>\n",
       "      <td>0.0</td>\n",
       "      <td>0.0</td>\n",
       "      <td>...</td>\n",
       "      <td>0.0</td>\n",
       "      <td>0.0</td>\n",
       "      <td>0.0</td>\n",
       "      <td>1.0</td>\n",
       "      <td>1.0</td>\n",
       "      <td>0.0</td>\n",
       "      <td>0.0</td>\n",
       "      <td>0.0</td>\n",
       "      <td>0.0</td>\n",
       "      <td>0.0</td>\n",
       "    </tr>\n",
       "    <tr>\n",
       "      <th>1</th>\n",
       "      <td>0.499002</td>\n",
       "      <td>0.020896</td>\n",
       "      <td>0.0</td>\n",
       "      <td>0.0</td>\n",
       "      <td>0.0</td>\n",
       "      <td>0.0</td>\n",
       "      <td>0.0</td>\n",
       "      <td>0.0</td>\n",
       "      <td>0.0</td>\n",
       "      <td>0.0</td>\n",
       "      <td>...</td>\n",
       "      <td>1.0</td>\n",
       "      <td>0.0</td>\n",
       "      <td>0.0</td>\n",
       "      <td>0.0</td>\n",
       "      <td>1.0</td>\n",
       "      <td>0.0</td>\n",
       "      <td>0.0</td>\n",
       "      <td>0.0</td>\n",
       "      <td>0.0</td>\n",
       "      <td>0.0</td>\n",
       "    </tr>\n",
       "    <tr>\n",
       "      <th>2</th>\n",
       "      <td>0.876248</td>\n",
       "      <td>0.122388</td>\n",
       "      <td>0.0</td>\n",
       "      <td>0.0</td>\n",
       "      <td>1.0</td>\n",
       "      <td>0.0</td>\n",
       "      <td>0.0</td>\n",
       "      <td>0.0</td>\n",
       "      <td>0.0</td>\n",
       "      <td>0.0</td>\n",
       "      <td>...</td>\n",
       "      <td>0.0</td>\n",
       "      <td>0.0</td>\n",
       "      <td>0.0</td>\n",
       "      <td>1.0</td>\n",
       "      <td>0.0</td>\n",
       "      <td>0.0</td>\n",
       "      <td>0.0</td>\n",
       "      <td>0.0</td>\n",
       "      <td>0.0</td>\n",
       "      <td>1.0</td>\n",
       "    </tr>\n",
       "  </tbody>\n",
       "</table>\n",
       "<p>3 rows × 181 columns</p>\n",
       "</div>"
      ],
      "text/plain": [
       "        0         1    2    3    4    5    6    7    8    9    ...  171  172  \\\n",
       "0  0.922156  0.211940  0.0  0.0  0.0  0.0  0.0  0.0  0.0  0.0  ...  0.0  0.0   \n",
       "1  0.499002  0.020896  0.0  0.0  0.0  0.0  0.0  0.0  0.0  0.0  ...  1.0  0.0   \n",
       "2  0.876248  0.122388  0.0  0.0  1.0  0.0  0.0  0.0  0.0  0.0  ...  0.0  0.0   \n",
       "\n",
       "   173  174  175  176  177  178  179  180  \n",
       "0  0.0  1.0  1.0  0.0  0.0  0.0  0.0  0.0  \n",
       "1  0.0  0.0  1.0  0.0  0.0  0.0  0.0  0.0  \n",
       "2  0.0  1.0  0.0  0.0  0.0  0.0  0.0  1.0  \n",
       "\n",
       "[3 rows x 181 columns]"
      ]
     },
     "execution_count": 29,
     "metadata": {},
     "output_type": "execute_result"
    }
   ],
   "source": [
    "pd.DataFrame(X2).head(3)"
   ]
  },
  {
   "cell_type": "markdown",
   "id": "e5dadb27-34b8-4b37-b581-9fd330cbaef2",
   "metadata": {},
   "source": [
    "### Transformation pipeline 3 \n",
    "\n",
    "- drop column 'company_type' (over 20% missing values) and 'enrollee_id'\n",
    "\n",
    "- Simple Imputer (numeric and categorical values)\n",
    "\n",
    "- MinMaxScaler (numeric and categorical values)\n",
    "\n",
    "- OneHotEncoder (selected categorical values)\n",
    "\n",
    "- OrdinalEncoder (selected categorical values)"
   ]
  },
  {
   "cell_type": "code",
   "execution_count": 30,
   "id": "5b464586-8949-4d97-ad4c-e099bb9648c3",
   "metadata": {},
   "outputs": [],
   "source": [
    "# categorical values:\n",
    "cat_cols3_onehot = ['city', 'gender', 'relevent_experience', 'enrolled_university', 'major_discipline']\n",
    "\n",
    "cat_cols3_ordinal  = ['education_level', 'company_size', 'last_new_job', 'experience']\n",
    "\n",
    "# numeric values:\n",
    "num_cols3 = ['city_development_index', 'training_hours']\n",
    "\n",
    "# target values:\n",
    "target_col = 'target'"
   ]
  },
  {
   "cell_type": "code",
   "execution_count": 31,
   "id": "8845bb60-c0a2-466d-8aa9-aa9659596014",
   "metadata": {},
   "outputs": [],
   "source": [
    "mapping = [{\n",
    "    \"col\":\"education_level\", \"mapping\": {\n",
    "        'Primary School':1, \n",
    "        'High School':2, \n",
    "        'Graduate':3, \n",
    "        'Masters':4, \n",
    "        'Phd':5, \n",
    "    }},\n",
    "    {\n",
    "    \"col\":\"company_size\", \"mapping\": {\n",
    "        '<10':1, \n",
    "        '10/49':2, \n",
    "        '50-99':3, \n",
    "        '100-500':4, \n",
    "        '500-999':5, \n",
    "        '1000-4999':6,\n",
    "        '5000-9999':7,\n",
    "        '10000+':8,\n",
    "        'not_specified':9\n",
    "    }},\n",
    "    {\n",
    "    \"col\":\"last_new_job\", \"mapping\": {\n",
    "        'never':1, \n",
    "        '1':2, \n",
    "        '2':3, \n",
    "        '3':4, \n",
    "        '4':5, \n",
    "        '>4':6\n",
    "    }},\n",
    "    {\n",
    "    \"col\":\"experience\", \"mapping\": {\n",
    "        '<1':1, \n",
    "        '1':2, \n",
    "        '2':3, \n",
    "        '3':4, \n",
    "        '4':5, \n",
    "        '5':6,\n",
    "        '6':7, \n",
    "        '7':8, \n",
    "        '8':9, \n",
    "        '9':10, \n",
    "        '10':11,\n",
    "        '11':12, \n",
    "        '12':13, \n",
    "        '13':14, \n",
    "        '14':15, \n",
    "        '15':16,\n",
    "        '16':17, \n",
    "        '17':18, \n",
    "        '18':19, \n",
    "        '19':20, \n",
    "        '20':21, \n",
    "        '>20':22\n",
    "          }}\n",
    "]"
   ]
  },
  {
   "cell_type": "code",
   "execution_count": 32,
   "id": "5de06cfd-8ae8-4701-a63b-1a0886a5d834",
   "metadata": {},
   "outputs": [],
   "source": [
    "num_pipeline3 = Pipeline([\n",
    "    (\"simple_imp\", SimpleImputer()),\n",
    "    (\"min_max\", MinMaxScaler())\n",
    "])"
   ]
  },
  {
   "cell_type": "code",
   "execution_count": 33,
   "id": "f539ff46-0559-4e04-85b4-c1ff5715e635",
   "metadata": {},
   "outputs": [],
   "source": [
    "onehot_pipeline3 = Pipeline([\n",
    "    (\"simple_imp\", SimpleImputer(missing_values = np.nan, strategy = 'most_frequent', fill_value=str)),\n",
    "    (\"one_hot\", OneHotEncoder(sparse= False, handle_unknown='ignore'))\n",
    "])"
   ]
  },
  {
   "cell_type": "code",
   "execution_count": 34,
   "id": "47ae1f1d-19e9-461e-9050-e550026ed351",
   "metadata": {},
   "outputs": [],
   "source": [
    "ordinal_pipeline3 = Pipeline([\n",
    "    (\"ordinal\", ce.OrdinalEncoder(mapping=mapping,  handle_missing='return_nan')),\n",
    "    (\"simple_imp\", SimpleImputer(missing_values = np.nan, strategy = 'most_frequent', fill_value=str)),\n",
    "    (\"min_max\", MinMaxScaler())\n",
    "])"
   ]
  },
  {
   "cell_type": "code",
   "execution_count": 35,
   "id": "40d4a643-b2f2-449a-a555-12676c5ac28d",
   "metadata": {},
   "outputs": [
    {
     "data": {
      "text/html": [
       "<style>#sk-e9fab138-abb1-4cfe-9671-f60d94e6d257 {color: black;background-color: white;}#sk-e9fab138-abb1-4cfe-9671-f60d94e6d257 pre{padding: 0;}#sk-e9fab138-abb1-4cfe-9671-f60d94e6d257 div.sk-toggleable {background-color: white;}#sk-e9fab138-abb1-4cfe-9671-f60d94e6d257 label.sk-toggleable__label {cursor: pointer;display: block;width: 100%;margin-bottom: 0;padding: 0.3em;box-sizing: border-box;text-align: center;}#sk-e9fab138-abb1-4cfe-9671-f60d94e6d257 label.sk-toggleable__label-arrow:before {content: \"▸\";float: left;margin-right: 0.25em;color: #696969;}#sk-e9fab138-abb1-4cfe-9671-f60d94e6d257 label.sk-toggleable__label-arrow:hover:before {color: black;}#sk-e9fab138-abb1-4cfe-9671-f60d94e6d257 div.sk-estimator:hover label.sk-toggleable__label-arrow:before {color: black;}#sk-e9fab138-abb1-4cfe-9671-f60d94e6d257 div.sk-toggleable__content {max-height: 0;max-width: 0;overflow: hidden;text-align: left;background-color: #f0f8ff;}#sk-e9fab138-abb1-4cfe-9671-f60d94e6d257 div.sk-toggleable__content pre {margin: 0.2em;color: black;border-radius: 0.25em;background-color: #f0f8ff;}#sk-e9fab138-abb1-4cfe-9671-f60d94e6d257 input.sk-toggleable__control:checked~div.sk-toggleable__content {max-height: 200px;max-width: 100%;overflow: auto;}#sk-e9fab138-abb1-4cfe-9671-f60d94e6d257 input.sk-toggleable__control:checked~label.sk-toggleable__label-arrow:before {content: \"▾\";}#sk-e9fab138-abb1-4cfe-9671-f60d94e6d257 div.sk-estimator input.sk-toggleable__control:checked~label.sk-toggleable__label {background-color: #d4ebff;}#sk-e9fab138-abb1-4cfe-9671-f60d94e6d257 div.sk-label input.sk-toggleable__control:checked~label.sk-toggleable__label {background-color: #d4ebff;}#sk-e9fab138-abb1-4cfe-9671-f60d94e6d257 input.sk-hidden--visually {border: 0;clip: rect(1px 1px 1px 1px);clip: rect(1px, 1px, 1px, 1px);height: 1px;margin: -1px;overflow: hidden;padding: 0;position: absolute;width: 1px;}#sk-e9fab138-abb1-4cfe-9671-f60d94e6d257 div.sk-estimator {font-family: monospace;background-color: #f0f8ff;border: 1px dotted black;border-radius: 0.25em;box-sizing: border-box;margin-bottom: 0.5em;}#sk-e9fab138-abb1-4cfe-9671-f60d94e6d257 div.sk-estimator:hover {background-color: #d4ebff;}#sk-e9fab138-abb1-4cfe-9671-f60d94e6d257 div.sk-parallel-item::after {content: \"\";width: 100%;border-bottom: 1px solid gray;flex-grow: 1;}#sk-e9fab138-abb1-4cfe-9671-f60d94e6d257 div.sk-label:hover label.sk-toggleable__label {background-color: #d4ebff;}#sk-e9fab138-abb1-4cfe-9671-f60d94e6d257 div.sk-serial::before {content: \"\";position: absolute;border-left: 1px solid gray;box-sizing: border-box;top: 2em;bottom: 0;left: 50%;}#sk-e9fab138-abb1-4cfe-9671-f60d94e6d257 div.sk-serial {display: flex;flex-direction: column;align-items: center;background-color: white;padding-right: 0.2em;padding-left: 0.2em;}#sk-e9fab138-abb1-4cfe-9671-f60d94e6d257 div.sk-item {z-index: 1;}#sk-e9fab138-abb1-4cfe-9671-f60d94e6d257 div.sk-parallel {display: flex;align-items: stretch;justify-content: center;background-color: white;}#sk-e9fab138-abb1-4cfe-9671-f60d94e6d257 div.sk-parallel::before {content: \"\";position: absolute;border-left: 1px solid gray;box-sizing: border-box;top: 2em;bottom: 0;left: 50%;}#sk-e9fab138-abb1-4cfe-9671-f60d94e6d257 div.sk-parallel-item {display: flex;flex-direction: column;position: relative;background-color: white;}#sk-e9fab138-abb1-4cfe-9671-f60d94e6d257 div.sk-parallel-item:first-child::after {align-self: flex-end;width: 50%;}#sk-e9fab138-abb1-4cfe-9671-f60d94e6d257 div.sk-parallel-item:last-child::after {align-self: flex-start;width: 50%;}#sk-e9fab138-abb1-4cfe-9671-f60d94e6d257 div.sk-parallel-item:only-child::after {width: 0;}#sk-e9fab138-abb1-4cfe-9671-f60d94e6d257 div.sk-dashed-wrapped {border: 1px dashed gray;margin: 0 0.4em 0.5em 0.4em;box-sizing: border-box;padding-bottom: 0.4em;background-color: white;position: relative;}#sk-e9fab138-abb1-4cfe-9671-f60d94e6d257 div.sk-label label {font-family: monospace;font-weight: bold;background-color: white;display: inline-block;line-height: 1.2em;}#sk-e9fab138-abb1-4cfe-9671-f60d94e6d257 div.sk-label-container {position: relative;z-index: 2;text-align: center;}#sk-e9fab138-abb1-4cfe-9671-f60d94e6d257 div.sk-container {/* jupyter's `normalize.less` sets `[hidden] { display: none; }` but bootstrap.min.css set `[hidden] { display: none !important; }` so we also need the `!important` here to be able to override the default hidden behavior on the sphinx rendered scikit-learn.org. See: https://github.com/scikit-learn/scikit-learn/issues/21755 */display: inline-block !important;position: relative;}#sk-e9fab138-abb1-4cfe-9671-f60d94e6d257 div.sk-text-repr-fallback {display: none;}</style><div id=\"sk-e9fab138-abb1-4cfe-9671-f60d94e6d257\" class=\"sk-top-container\"><div class=\"sk-text-repr-fallback\"><pre>ColumnTransformer(sparse_threshold=0,\n",
       "                  transformers=[(&#x27;num&#x27;,\n",
       "                                 Pipeline(steps=[(&#x27;simple_imp&#x27;,\n",
       "                                                  SimpleImputer()),\n",
       "                                                 (&#x27;min_max&#x27;, MinMaxScaler())]),\n",
       "                                 [&#x27;city_development_index&#x27;, &#x27;training_hours&#x27;]),\n",
       "                                (&#x27;onehot&#x27;,\n",
       "                                 Pipeline(steps=[(&#x27;simple_imp&#x27;,\n",
       "                                                  SimpleImputer(fill_value=&lt;class &#x27;str&#x27;&gt;,\n",
       "                                                                strategy=&#x27;most_frequent&#x27;)),\n",
       "                                                 (&#x27;one_hot&#x27;,\n",
       "                                                  OneHotEncoder(handle_unknown=&#x27;ignore&#x27;,\n",
       "                                                                sparse=False))]),...\n",
       "                                                                          {&#x27;col&#x27;: &#x27;experience&#x27;,\n",
       "                                                                           &#x27;mapping&#x27;: {&#x27;1&#x27;: 2,\n",
       "                                                                                       &#x27;10&#x27;: 11,\n",
       "                                                                                       &#x27;11&#x27;: 12,\n",
       "                                                                                       &#x27;12&#x27;: 13,\n",
       "                                                                                       &#x27;13&#x27;: 14,\n",
       "                                                                                       &#x27;14&#x27;: 15,\n",
       "                                                                                       &#x27;15&#x27;: 16,\n",
       "                                                                                       &#x27;16&#x27;: 17,\n",
       "                                                                                       &#x27;17&#x27;: 18,\n",
       "                                                                                       &#x27;18&#x27;: 19,\n",
       "                                                                                       &#x27;19&#x27;: 20,\n",
       "                                                                                       &#x27;2&#x27;: 3,\n",
       "                                                                                       &#x27;20&#x27;: 21,\n",
       "                                                                                       &#x27;3&#x27;: 4,\n",
       "                                                                                       &#x27;4&#x27;: 5,\n",
       "                                                                                       &#x27;5&#x27;: 6,\n",
       "                                                                                       &#x27;6&#x27;: 7,\n",
       "                                                                                       &#x27;7&#x27;: 8,\n",
       "                                                                                       &#x27;8&#x27;: 9,\n",
       "                                                                                       &#x27;9&#x27;: 10,\n",
       "                                                                                       &#x27;&lt;1&#x27;: 1,\n",
       "                                                                                       &#x27;&gt;20&#x27;: 22}}])),\n",
       "                                                 (&#x27;simple_imp&#x27;,\n",
       "                                                  SimpleImputer(fill_value=&lt;class &#x27;str&#x27;&gt;,\n",
       "                                                                strategy=&#x27;most_frequent&#x27;)),\n",
       "                                                 (&#x27;min_max&#x27;, MinMaxScaler())]),\n",
       "                                 [&#x27;education_level&#x27;, &#x27;company_size&#x27;,\n",
       "                                  &#x27;last_new_job&#x27;, &#x27;experience&#x27;])])</pre><b>Please rerun this cell to show the HTML repr or trust the notebook.</b></div><div class=\"sk-container\" hidden><div class=\"sk-item sk-dashed-wrapped\"><div class=\"sk-label-container\"><div class=\"sk-label sk-toggleable\"><input class=\"sk-toggleable__control sk-hidden--visually\" id=\"1978dcc2-bf03-48c0-8d44-31f7efe4368f\" type=\"checkbox\" ><label for=\"1978dcc2-bf03-48c0-8d44-31f7efe4368f\" class=\"sk-toggleable__label sk-toggleable__label-arrow\">ColumnTransformer</label><div class=\"sk-toggleable__content\"><pre>ColumnTransformer(sparse_threshold=0,\n",
       "                  transformers=[(&#x27;num&#x27;,\n",
       "                                 Pipeline(steps=[(&#x27;simple_imp&#x27;,\n",
       "                                                  SimpleImputer()),\n",
       "                                                 (&#x27;min_max&#x27;, MinMaxScaler())]),\n",
       "                                 [&#x27;city_development_index&#x27;, &#x27;training_hours&#x27;]),\n",
       "                                (&#x27;onehot&#x27;,\n",
       "                                 Pipeline(steps=[(&#x27;simple_imp&#x27;,\n",
       "                                                  SimpleImputer(fill_value=&lt;class &#x27;str&#x27;&gt;,\n",
       "                                                                strategy=&#x27;most_frequent&#x27;)),\n",
       "                                                 (&#x27;one_hot&#x27;,\n",
       "                                                  OneHotEncoder(handle_unknown=&#x27;ignore&#x27;,\n",
       "                                                                sparse=False))]),...\n",
       "                                                                          {&#x27;col&#x27;: &#x27;experience&#x27;,\n",
       "                                                                           &#x27;mapping&#x27;: {&#x27;1&#x27;: 2,\n",
       "                                                                                       &#x27;10&#x27;: 11,\n",
       "                                                                                       &#x27;11&#x27;: 12,\n",
       "                                                                                       &#x27;12&#x27;: 13,\n",
       "                                                                                       &#x27;13&#x27;: 14,\n",
       "                                                                                       &#x27;14&#x27;: 15,\n",
       "                                                                                       &#x27;15&#x27;: 16,\n",
       "                                                                                       &#x27;16&#x27;: 17,\n",
       "                                                                                       &#x27;17&#x27;: 18,\n",
       "                                                                                       &#x27;18&#x27;: 19,\n",
       "                                                                                       &#x27;19&#x27;: 20,\n",
       "                                                                                       &#x27;2&#x27;: 3,\n",
       "                                                                                       &#x27;20&#x27;: 21,\n",
       "                                                                                       &#x27;3&#x27;: 4,\n",
       "                                                                                       &#x27;4&#x27;: 5,\n",
       "                                                                                       &#x27;5&#x27;: 6,\n",
       "                                                                                       &#x27;6&#x27;: 7,\n",
       "                                                                                       &#x27;7&#x27;: 8,\n",
       "                                                                                       &#x27;8&#x27;: 9,\n",
       "                                                                                       &#x27;9&#x27;: 10,\n",
       "                                                                                       &#x27;&lt;1&#x27;: 1,\n",
       "                                                                                       &#x27;&gt;20&#x27;: 22}}])),\n",
       "                                                 (&#x27;simple_imp&#x27;,\n",
       "                                                  SimpleImputer(fill_value=&lt;class &#x27;str&#x27;&gt;,\n",
       "                                                                strategy=&#x27;most_frequent&#x27;)),\n",
       "                                                 (&#x27;min_max&#x27;, MinMaxScaler())]),\n",
       "                                 [&#x27;education_level&#x27;, &#x27;company_size&#x27;,\n",
       "                                  &#x27;last_new_job&#x27;, &#x27;experience&#x27;])])</pre></div></div></div><div class=\"sk-parallel\"><div class=\"sk-parallel-item\"><div class=\"sk-item\"><div class=\"sk-label-container\"><div class=\"sk-label sk-toggleable\"><input class=\"sk-toggleable__control sk-hidden--visually\" id=\"289a5418-69ed-4887-afcc-a8e95c01588e\" type=\"checkbox\" ><label for=\"289a5418-69ed-4887-afcc-a8e95c01588e\" class=\"sk-toggleable__label sk-toggleable__label-arrow\">num</label><div class=\"sk-toggleable__content\"><pre>[&#x27;city_development_index&#x27;, &#x27;training_hours&#x27;]</pre></div></div></div><div class=\"sk-serial\"><div class=\"sk-item\"><div class=\"sk-serial\"><div class=\"sk-item\"><div class=\"sk-estimator sk-toggleable\"><input class=\"sk-toggleable__control sk-hidden--visually\" id=\"c9c9b3db-c9fb-4d05-a576-5824775f20b6\" type=\"checkbox\" ><label for=\"c9c9b3db-c9fb-4d05-a576-5824775f20b6\" class=\"sk-toggleable__label sk-toggleable__label-arrow\">SimpleImputer</label><div class=\"sk-toggleable__content\"><pre>SimpleImputer()</pre></div></div></div><div class=\"sk-item\"><div class=\"sk-estimator sk-toggleable\"><input class=\"sk-toggleable__control sk-hidden--visually\" id=\"b412726e-55f0-4484-928d-4f71377fd5f8\" type=\"checkbox\" ><label for=\"b412726e-55f0-4484-928d-4f71377fd5f8\" class=\"sk-toggleable__label sk-toggleable__label-arrow\">MinMaxScaler</label><div class=\"sk-toggleable__content\"><pre>MinMaxScaler()</pre></div></div></div></div></div></div></div></div><div class=\"sk-parallel-item\"><div class=\"sk-item\"><div class=\"sk-label-container\"><div class=\"sk-label sk-toggleable\"><input class=\"sk-toggleable__control sk-hidden--visually\" id=\"d91d285f-9166-460f-9d10-e3d5a5718ec8\" type=\"checkbox\" ><label for=\"d91d285f-9166-460f-9d10-e3d5a5718ec8\" class=\"sk-toggleable__label sk-toggleable__label-arrow\">onehot</label><div class=\"sk-toggleable__content\"><pre>[&#x27;city&#x27;, &#x27;gender&#x27;, &#x27;relevent_experience&#x27;, &#x27;enrolled_university&#x27;, &#x27;major_discipline&#x27;]</pre></div></div></div><div class=\"sk-serial\"><div class=\"sk-item\"><div class=\"sk-serial\"><div class=\"sk-item\"><div class=\"sk-estimator sk-toggleable\"><input class=\"sk-toggleable__control sk-hidden--visually\" id=\"23a3be94-61fb-406a-8f93-080bf16858b6\" type=\"checkbox\" ><label for=\"23a3be94-61fb-406a-8f93-080bf16858b6\" class=\"sk-toggleable__label sk-toggleable__label-arrow\">SimpleImputer</label><div class=\"sk-toggleable__content\"><pre>SimpleImputer(fill_value=&lt;class &#x27;str&#x27;&gt;, strategy=&#x27;most_frequent&#x27;)</pre></div></div></div><div class=\"sk-item\"><div class=\"sk-estimator sk-toggleable\"><input class=\"sk-toggleable__control sk-hidden--visually\" id=\"a0f7dd96-04c8-4cdf-b1cf-da9fb9b3d836\" type=\"checkbox\" ><label for=\"a0f7dd96-04c8-4cdf-b1cf-da9fb9b3d836\" class=\"sk-toggleable__label sk-toggleable__label-arrow\">OneHotEncoder</label><div class=\"sk-toggleable__content\"><pre>OneHotEncoder(handle_unknown=&#x27;ignore&#x27;, sparse=False)</pre></div></div></div></div></div></div></div></div><div class=\"sk-parallel-item\"><div class=\"sk-item\"><div class=\"sk-label-container\"><div class=\"sk-label sk-toggleable\"><input class=\"sk-toggleable__control sk-hidden--visually\" id=\"67920496-c733-4399-b912-a90a849b0bc7\" type=\"checkbox\" ><label for=\"67920496-c733-4399-b912-a90a849b0bc7\" class=\"sk-toggleable__label sk-toggleable__label-arrow\">ordinal</label><div class=\"sk-toggleable__content\"><pre>[&#x27;education_level&#x27;, &#x27;company_size&#x27;, &#x27;last_new_job&#x27;, &#x27;experience&#x27;]</pre></div></div></div><div class=\"sk-serial\"><div class=\"sk-item\"><div class=\"sk-serial\"><div class=\"sk-item\"><div class=\"sk-estimator sk-toggleable\"><input class=\"sk-toggleable__control sk-hidden--visually\" id=\"c6cf2fa9-39c4-4370-b8d5-661986968a44\" type=\"checkbox\" ><label for=\"c6cf2fa9-39c4-4370-b8d5-661986968a44\" class=\"sk-toggleable__label sk-toggleable__label-arrow\">OrdinalEncoder</label><div class=\"sk-toggleable__content\"><pre>OrdinalEncoder(handle_missing=&#x27;return_nan&#x27;,\n",
       "               mapping=[{&#x27;col&#x27;: &#x27;education_level&#x27;,\n",
       "                         &#x27;mapping&#x27;: {&#x27;Graduate&#x27;: 3, &#x27;High School&#x27;: 2,\n",
       "                                     &#x27;Masters&#x27;: 4, &#x27;Phd&#x27;: 5,\n",
       "                                     &#x27;Primary School&#x27;: 1}},\n",
       "                        {&#x27;col&#x27;: &#x27;company_size&#x27;,\n",
       "                         &#x27;mapping&#x27;: {&#x27;10/49&#x27;: 2, &#x27;100-500&#x27;: 4, &#x27;1000-4999&#x27;: 6,\n",
       "                                     &#x27;10000+&#x27;: 8, &#x27;50-99&#x27;: 3, &#x27;500-999&#x27;: 5,\n",
       "                                     &#x27;5000-9999&#x27;: 7, &#x27;&lt;10&#x27;: 1,\n",
       "                                     &#x27;not_specified&#x27;: 9}},\n",
       "                        {&#x27;col&#x27;: &#x27;last_new_job&#x27;,\n",
       "                         &#x27;mapping&#x27;: {&#x27;1&#x27;: 2, &#x27;2&#x27;: 3, &#x27;3&#x27;: 4, &#x27;4&#x27;: 5, &#x27;&gt;4&#x27;: 6,\n",
       "                                     &#x27;never&#x27;: 1}},\n",
       "                        {&#x27;col&#x27;: &#x27;experience&#x27;,\n",
       "                         &#x27;mapping&#x27;: {&#x27;1&#x27;: 2, &#x27;10&#x27;: 11, &#x27;11&#x27;: 12, &#x27;12&#x27;: 13,\n",
       "                                     &#x27;13&#x27;: 14, &#x27;14&#x27;: 15, &#x27;15&#x27;: 16, &#x27;16&#x27;: 17,\n",
       "                                     &#x27;17&#x27;: 18, &#x27;18&#x27;: 19, &#x27;19&#x27;: 20, &#x27;2&#x27;: 3,\n",
       "                                     &#x27;20&#x27;: 21, &#x27;3&#x27;: 4, &#x27;4&#x27;: 5, &#x27;5&#x27;: 6, &#x27;6&#x27;: 7,\n",
       "                                     &#x27;7&#x27;: 8, &#x27;8&#x27;: 9, &#x27;9&#x27;: 10, &#x27;&lt;1&#x27;: 1,\n",
       "                                     &#x27;&gt;20&#x27;: 22}}])</pre></div></div></div><div class=\"sk-item\"><div class=\"sk-estimator sk-toggleable\"><input class=\"sk-toggleable__control sk-hidden--visually\" id=\"1d9d375c-1ae5-4859-bc78-58fb1261832a\" type=\"checkbox\" ><label for=\"1d9d375c-1ae5-4859-bc78-58fb1261832a\" class=\"sk-toggleable__label sk-toggleable__label-arrow\">SimpleImputer</label><div class=\"sk-toggleable__content\"><pre>SimpleImputer(fill_value=&lt;class &#x27;str&#x27;&gt;, strategy=&#x27;most_frequent&#x27;)</pre></div></div></div><div class=\"sk-item\"><div class=\"sk-estimator sk-toggleable\"><input class=\"sk-toggleable__control sk-hidden--visually\" id=\"cb8f2c19-a87a-4c49-a7cb-867e25ac55df\" type=\"checkbox\" ><label for=\"cb8f2c19-a87a-4c49-a7cb-867e25ac55df\" class=\"sk-toggleable__label sk-toggleable__label-arrow\">MinMaxScaler</label><div class=\"sk-toggleable__content\"><pre>MinMaxScaler()</pre></div></div></div></div></div></div></div></div></div></div></div></div>"
      ],
      "text/plain": [
       "ColumnTransformer(sparse_threshold=0,\n",
       "                  transformers=[('num',\n",
       "                                 Pipeline(steps=[('simple_imp',\n",
       "                                                  SimpleImputer()),\n",
       "                                                 ('min_max', MinMaxScaler())]),\n",
       "                                 ['city_development_index', 'training_hours']),\n",
       "                                ('onehot',\n",
       "                                 Pipeline(steps=[('simple_imp',\n",
       "                                                  SimpleImputer(fill_value=<class 'str'>,\n",
       "                                                                strategy='most_frequent')),\n",
       "                                                 ('one_hot',\n",
       "                                                  OneHotEncoder(handle_unknown='ignore',\n",
       "                                                                sparse=False))]),...\n",
       "                                                                          {'col': 'experience',\n",
       "                                                                           'mapping': {'1': 2,\n",
       "                                                                                       '10': 11,\n",
       "                                                                                       '11': 12,\n",
       "                                                                                       '12': 13,\n",
       "                                                                                       '13': 14,\n",
       "                                                                                       '14': 15,\n",
       "                                                                                       '15': 16,\n",
       "                                                                                       '16': 17,\n",
       "                                                                                       '17': 18,\n",
       "                                                                                       '18': 19,\n",
       "                                                                                       '19': 20,\n",
       "                                                                                       '2': 3,\n",
       "                                                                                       '20': 21,\n",
       "                                                                                       '3': 4,\n",
       "                                                                                       '4': 5,\n",
       "                                                                                       '5': 6,\n",
       "                                                                                       '6': 7,\n",
       "                                                                                       '7': 8,\n",
       "                                                                                       '8': 9,\n",
       "                                                                                       '9': 10,\n",
       "                                                                                       '<1': 1,\n",
       "                                                                                       '>20': 22}}])),\n",
       "                                                 ('simple_imp',\n",
       "                                                  SimpleImputer(fill_value=<class 'str'>,\n",
       "                                                                strategy='most_frequent')),\n",
       "                                                 ('min_max', MinMaxScaler())]),\n",
       "                                 ['education_level', 'company_size',\n",
       "                                  'last_new_job', 'experience'])])"
      ]
     },
     "execution_count": 35,
     "metadata": {},
     "output_type": "execute_result"
    }
   ],
   "source": [
    "# Pipeline 3:\n",
    "pipeline3 = ColumnTransformer([\n",
    "    (\"num\", num_pipeline3, num_cols3),\n",
    "    (\"onehot\", onehot_pipeline3, cat_cols3_onehot),\n",
    "    (\"ordinal\", ordinal_pipeline3, cat_cols3_ordinal)\n",
    "], sparse_threshold=0)\n",
    "\n",
    "pipeline3"
   ]
  },
  {
   "cell_type": "code",
   "execution_count": 36,
   "id": "f8f38dbb-8168-4181-9e81-b6f029d2eab8",
   "metadata": {},
   "outputs": [
    {
     "data": {
      "text/plain": [
       "(14368, 143)"
      ]
     },
     "execution_count": 36,
     "metadata": {},
     "output_type": "execute_result"
    }
   ],
   "source": [
    "X3 = pipeline3.fit_transform(df_train)\n",
    "X3.shape"
   ]
  },
  {
   "cell_type": "code",
   "execution_count": 37,
   "id": "154b2e0b-0610-4b2c-a791-392ef36d6c85",
   "metadata": {},
   "outputs": [
    {
     "data": {
      "text/html": [
       "<div>\n",
       "<style scoped>\n",
       "    .dataframe tbody tr th:only-of-type {\n",
       "        vertical-align: middle;\n",
       "    }\n",
       "\n",
       "    .dataframe tbody tr th {\n",
       "        vertical-align: top;\n",
       "    }\n",
       "\n",
       "    .dataframe thead th {\n",
       "        text-align: right;\n",
       "    }\n",
       "</style>\n",
       "<table border=\"1\" class=\"dataframe\">\n",
       "  <thead>\n",
       "    <tr style=\"text-align: right;\">\n",
       "      <th></th>\n",
       "      <th>0</th>\n",
       "      <th>1</th>\n",
       "      <th>2</th>\n",
       "      <th>3</th>\n",
       "      <th>4</th>\n",
       "      <th>5</th>\n",
       "      <th>6</th>\n",
       "      <th>7</th>\n",
       "      <th>8</th>\n",
       "      <th>9</th>\n",
       "      <th>...</th>\n",
       "      <th>133</th>\n",
       "      <th>134</th>\n",
       "      <th>135</th>\n",
       "      <th>136</th>\n",
       "      <th>137</th>\n",
       "      <th>138</th>\n",
       "      <th>139</th>\n",
       "      <th>140</th>\n",
       "      <th>141</th>\n",
       "      <th>142</th>\n",
       "    </tr>\n",
       "  </thead>\n",
       "  <tbody>\n",
       "    <tr>\n",
       "      <th>0</th>\n",
       "      <td>0.922156</td>\n",
       "      <td>0.211940</td>\n",
       "      <td>0.0</td>\n",
       "      <td>0.0</td>\n",
       "      <td>0.0</td>\n",
       "      <td>0.0</td>\n",
       "      <td>0.0</td>\n",
       "      <td>0.0</td>\n",
       "      <td>0.0</td>\n",
       "      <td>0.0</td>\n",
       "      <td>...</td>\n",
       "      <td>0.0</td>\n",
       "      <td>0.0</td>\n",
       "      <td>1.0</td>\n",
       "      <td>0.0</td>\n",
       "      <td>0.0</td>\n",
       "      <td>0.0</td>\n",
       "      <td>0.666667</td>\n",
       "      <td>0.25</td>\n",
       "      <td>0.428571</td>\n",
       "      <td>0.086957</td>\n",
       "    </tr>\n",
       "    <tr>\n",
       "      <th>1</th>\n",
       "      <td>0.499002</td>\n",
       "      <td>0.020896</td>\n",
       "      <td>0.0</td>\n",
       "      <td>0.0</td>\n",
       "      <td>0.0</td>\n",
       "      <td>0.0</td>\n",
       "      <td>0.0</td>\n",
       "      <td>0.0</td>\n",
       "      <td>0.0</td>\n",
       "      <td>0.0</td>\n",
       "      <td>...</td>\n",
       "      <td>0.0</td>\n",
       "      <td>0.0</td>\n",
       "      <td>0.0</td>\n",
       "      <td>0.0</td>\n",
       "      <td>0.0</td>\n",
       "      <td>1.0</td>\n",
       "      <td>0.666667</td>\n",
       "      <td>0.50</td>\n",
       "      <td>0.428571</td>\n",
       "      <td>0.391304</td>\n",
       "    </tr>\n",
       "    <tr>\n",
       "      <th>2</th>\n",
       "      <td>0.876248</td>\n",
       "      <td>0.122388</td>\n",
       "      <td>0.0</td>\n",
       "      <td>0.0</td>\n",
       "      <td>1.0</td>\n",
       "      <td>0.0</td>\n",
       "      <td>0.0</td>\n",
       "      <td>0.0</td>\n",
       "      <td>0.0</td>\n",
       "      <td>0.0</td>\n",
       "      <td>...</td>\n",
       "      <td>0.0</td>\n",
       "      <td>0.0</td>\n",
       "      <td>0.0</td>\n",
       "      <td>0.0</td>\n",
       "      <td>0.0</td>\n",
       "      <td>1.0</td>\n",
       "      <td>0.666667</td>\n",
       "      <td>1.00</td>\n",
       "      <td>0.285714</td>\n",
       "      <td>0.347826</td>\n",
       "    </tr>\n",
       "  </tbody>\n",
       "</table>\n",
       "<p>3 rows × 143 columns</p>\n",
       "</div>"
      ],
      "text/plain": [
       "        0         1    2    3    4    5    6    7    8    9    ...  133  134  \\\n",
       "0  0.922156  0.211940  0.0  0.0  0.0  0.0  0.0  0.0  0.0  0.0  ...  0.0  0.0   \n",
       "1  0.499002  0.020896  0.0  0.0  0.0  0.0  0.0  0.0  0.0  0.0  ...  0.0  0.0   \n",
       "2  0.876248  0.122388  0.0  0.0  1.0  0.0  0.0  0.0  0.0  0.0  ...  0.0  0.0   \n",
       "\n",
       "   135  136  137  138       139   140       141       142  \n",
       "0  1.0  0.0  0.0  0.0  0.666667  0.25  0.428571  0.086957  \n",
       "1  0.0  0.0  0.0  1.0  0.666667  0.50  0.428571  0.391304  \n",
       "2  0.0  0.0  0.0  1.0  0.666667  1.00  0.285714  0.347826  \n",
       "\n",
       "[3 rows x 143 columns]"
      ]
     },
     "execution_count": 37,
     "metadata": {},
     "output_type": "execute_result"
    }
   ],
   "source": [
    "pd.DataFrame(X3).head(3)"
   ]
  },
  {
   "cell_type": "markdown",
   "id": "6538f9bc-f0e4-49d0-99a3-030de1962e20",
   "metadata": {},
   "source": [
    "### Zielvariable y"
   ]
  },
  {
   "cell_type": "code",
   "execution_count": 38,
   "id": "64ecbbd2-1781-49b2-9599-ee34dde67ce5",
   "metadata": {},
   "outputs": [
    {
     "data": {
      "text/plain": [
       "(14368,)"
      ]
     },
     "execution_count": 38,
     "metadata": {},
     "output_type": "execute_result"
    }
   ],
   "source": [
    "# Zielvariable:\n",
    "y = df_train[target_col]\n",
    "y.shape"
   ]
  },
  {
   "cell_type": "markdown",
   "id": "de7c62ed-7b66-4adb-96a3-0926ebc378fd",
   "metadata": {},
   "source": [
    "### Zielvariable y_smote (Oversampling Target)"
   ]
  },
  {
   "cell_type": "code",
   "execution_count": 39,
   "id": "f0e79948-20cd-4192-b60e-0ff33fd87f78",
   "metadata": {},
   "outputs": [
    {
     "data": {
      "text/plain": [
       "((14368, 181), (14368,), (14368, 14))"
      ]
     },
     "execution_count": 39,
     "metadata": {},
     "output_type": "execute_result"
    }
   ],
   "source": [
    "X1.shape, y.shape, df_train.shape"
   ]
  },
  {
   "cell_type": "code",
   "execution_count": 40,
   "id": "9e3c5415-6f8e-4a11-a110-bb350cc989ea",
   "metadata": {},
   "outputs": [],
   "source": [
    "oversample = SMOTE(random_state=42)"
   ]
  },
  {
   "cell_type": "code",
   "execution_count": 41,
   "id": "7ea28e4b-129e-4073-8273-50d976779826",
   "metadata": {},
   "outputs": [
    {
     "data": {
      "text/plain": [
       "((21594, 181), (21594,), (14368, 14))"
      ]
     },
     "execution_count": 41,
     "metadata": {},
     "output_type": "execute_result"
    }
   ],
   "source": [
    "X1_smote, y1_smote = oversample.fit_resample(X1, y)\n",
    "X1_smote.shape, y1_smote.shape, df_train.shape"
   ]
  },
  {
   "cell_type": "code",
   "execution_count": 42,
   "id": "e6cff811-d7ed-4483-ac4e-faef23f308fc",
   "metadata": {},
   "outputs": [
    {
     "name": "stdout",
     "output_type": "stream",
     "text": [
      "The number of 1 in the target now are:  10797\n",
      "The number of 0 in the target now are:  10797\n"
     ]
    }
   ],
   "source": [
    "count_1=0\n",
    "count_0=0\n",
    "for i in y1_smote:\n",
    "    if int(i)==1:\n",
    "        count_1+=1\n",
    "    else:\n",
    "        count_0+=1\n",
    "print('The number of 1 in the target now are: ',count_1)\n",
    "print('The number of 0 in the target now are: ',count_0)"
   ]
  },
  {
   "cell_type": "markdown",
   "id": "e2c1b723-0a34-4c2b-a02b-050338883527",
   "metadata": {},
   "source": [
    "After oversampling, we see an equal distribution of candidates seeking a job change and those who are not looking for a new job."
   ]
  },
  {
   "cell_type": "code",
   "execution_count": 43,
   "id": "eb27cd15-30dd-44fe-9a6c-b91441e54d8a",
   "metadata": {},
   "outputs": [
    {
     "data": {
      "text/plain": [
       "((21594, 181), (21594,), (14368, 14))"
      ]
     },
     "execution_count": 43,
     "metadata": {},
     "output_type": "execute_result"
    }
   ],
   "source": [
    "X2_smote, y2_smote = oversample.fit_resample(X2, y)\n",
    "X2_smote.shape, y2_smote.shape, df_train.shape"
   ]
  },
  {
   "cell_type": "code",
   "execution_count": 44,
   "id": "199340c5-4ecf-4fa5-ae22-d7696f436e9d",
   "metadata": {},
   "outputs": [
    {
     "data": {
      "text/plain": [
       "((21594, 143), (21594,), (14368, 14))"
      ]
     },
     "execution_count": 44,
     "metadata": {},
     "output_type": "execute_result"
    }
   ],
   "source": [
    "X3_smote, y3_smote = oversample.fit_resample(X3, y)\n",
    "X3_smote.shape, y3_smote.shape, df_train.shape"
   ]
  },
  {
   "cell_type": "markdown",
   "id": "b35b00f2-390d-4e4b-a953-7abd70ddfe40",
   "metadata": {},
   "source": [
    "## Transformation Test Data"
   ]
  },
  {
   "cell_type": "code",
   "execution_count": 45,
   "id": "7201d444-8034-4328-aa0d-edfc0bc22eba",
   "metadata": {},
   "outputs": [
    {
     "data": {
      "text/html": [
       "<div>\n",
       "<style scoped>\n",
       "    .dataframe tbody tr th:only-of-type {\n",
       "        vertical-align: middle;\n",
       "    }\n",
       "\n",
       "    .dataframe tbody tr th {\n",
       "        vertical-align: top;\n",
       "    }\n",
       "\n",
       "    .dataframe thead th {\n",
       "        text-align: right;\n",
       "    }\n",
       "</style>\n",
       "<table border=\"1\" class=\"dataframe\">\n",
       "  <thead>\n",
       "    <tr style=\"text-align: right;\">\n",
       "      <th></th>\n",
       "      <th>enrollee_id</th>\n",
       "      <th>city</th>\n",
       "      <th>city_development_index</th>\n",
       "      <th>gender</th>\n",
       "      <th>relevent_experience</th>\n",
       "      <th>enrolled_university</th>\n",
       "      <th>education_level</th>\n",
       "      <th>major_discipline</th>\n",
       "      <th>experience</th>\n",
       "      <th>company_size</th>\n",
       "      <th>company_type</th>\n",
       "      <th>last_new_job</th>\n",
       "      <th>training_hours</th>\n",
       "      <th>target</th>\n",
       "    </tr>\n",
       "  </thead>\n",
       "  <tbody>\n",
       "    <tr>\n",
       "      <th>16144</th>\n",
       "      <td>6992</td>\n",
       "      <td>city_16</td>\n",
       "      <td>0.910</td>\n",
       "      <td>not_specified</td>\n",
       "      <td>Has relevent experience</td>\n",
       "      <td>no_enrollment</td>\n",
       "      <td>Graduate</td>\n",
       "      <td>STEM</td>\n",
       "      <td>6</td>\n",
       "      <td>500-999</td>\n",
       "      <td>Pvt Ltd</td>\n",
       "      <td>1</td>\n",
       "      <td>21</td>\n",
       "      <td>0.0</td>\n",
       "    </tr>\n",
       "    <tr>\n",
       "      <th>13661</th>\n",
       "      <td>8637</td>\n",
       "      <td>city_103</td>\n",
       "      <td>0.920</td>\n",
       "      <td>Female</td>\n",
       "      <td>Has relevent experience</td>\n",
       "      <td>no_enrollment</td>\n",
       "      <td>Masters</td>\n",
       "      <td>Humanities</td>\n",
       "      <td>&gt;20</td>\n",
       "      <td>100-500</td>\n",
       "      <td>Funded Startup</td>\n",
       "      <td>2</td>\n",
       "      <td>74</td>\n",
       "      <td>0.0</td>\n",
       "    </tr>\n",
       "    <tr>\n",
       "      <th>344</th>\n",
       "      <td>24729</td>\n",
       "      <td>city_104</td>\n",
       "      <td>0.924</td>\n",
       "      <td>not_specified</td>\n",
       "      <td>Has relevent experience</td>\n",
       "      <td>no_enrollment</td>\n",
       "      <td>Graduate</td>\n",
       "      <td>STEM</td>\n",
       "      <td>9</td>\n",
       "      <td>10/49</td>\n",
       "      <td>Pvt Ltd</td>\n",
       "      <td>1</td>\n",
       "      <td>94</td>\n",
       "      <td>0.0</td>\n",
       "    </tr>\n",
       "  </tbody>\n",
       "</table>\n",
       "</div>"
      ],
      "text/plain": [
       "       enrollee_id      city  city_development_index         gender  \\\n",
       "16144         6992   city_16                   0.910  not_specified   \n",
       "13661         8637  city_103                   0.920         Female   \n",
       "344          24729  city_104                   0.924  not_specified   \n",
       "\n",
       "           relevent_experience enrolled_university education_level  \\\n",
       "16144  Has relevent experience       no_enrollment        Graduate   \n",
       "13661  Has relevent experience       no_enrollment         Masters   \n",
       "344    Has relevent experience       no_enrollment        Graduate   \n",
       "\n",
       "      major_discipline experience company_size    company_type last_new_job  \\\n",
       "16144             STEM          6      500-999         Pvt Ltd            1   \n",
       "13661       Humanities        >20      100-500  Funded Startup            2   \n",
       "344               STEM          9        10/49         Pvt Ltd            1   \n",
       "\n",
       "       training_hours  target  \n",
       "16144              21     0.0  \n",
       "13661              74     0.0  \n",
       "344                94     0.0  "
      ]
     },
     "execution_count": 45,
     "metadata": {},
     "output_type": "execute_result"
    }
   ],
   "source": [
    "df_test.head(3)"
   ]
  },
  {
   "cell_type": "code",
   "execution_count": 46,
   "id": "6c337b7f-0a02-4654-b051-1335bf97c477",
   "metadata": {},
   "outputs": [],
   "source": [
    "X_test = df_test.drop(columns=['target'])\n",
    "y_test = df_test['target']"
   ]
  },
  {
   "cell_type": "code",
   "execution_count": 47,
   "id": "3a24f87f-eee3-43b9-b011-e1970b340674",
   "metadata": {},
   "outputs": [
    {
     "data": {
      "text/plain": [
       "(4790, 181)"
      ]
     },
     "execution_count": 47,
     "metadata": {},
     "output_type": "execute_result"
    }
   ],
   "source": [
    "# Transformation pipeline1\n",
    "X1_test = pipeline1.transform(df_test)\n",
    "X1_test.shape"
   ]
  },
  {
   "cell_type": "code",
   "execution_count": 48,
   "id": "1b8e189c-1886-4c26-92d3-e7cc87ed816e",
   "metadata": {},
   "outputs": [
    {
     "data": {
      "text/plain": [
       "(4790, 181)"
      ]
     },
     "execution_count": 48,
     "metadata": {},
     "output_type": "execute_result"
    }
   ],
   "source": [
    "# Transformation pipeline2\n",
    "X2_test = pipeline2.transform(X_test)\n",
    "X2_test.shape"
   ]
  },
  {
   "cell_type": "code",
   "execution_count": 49,
   "id": "3cf43ece-e2d8-41f7-8368-e16a38328dba",
   "metadata": {},
   "outputs": [
    {
     "data": {
      "text/plain": [
       "(4790, 143)"
      ]
     },
     "execution_count": 49,
     "metadata": {},
     "output_type": "execute_result"
    }
   ],
   "source": [
    "# Transformation pipeline3\n",
    "X3_test = pipeline3.transform(X_test)\n",
    "X3_test.shape"
   ]
  },
  {
   "cell_type": "markdown",
   "id": "3d198f93-227c-48c4-a5bb-6618a98e6ac7",
   "metadata": {},
   "source": [
    "## Analysis"
   ]
  },
  {
   "cell_type": "markdown",
   "id": "38b40c57-d2c1-4a29-91ef-9a32304ea8ef",
   "metadata": {},
   "source": [
    "### Comparsion Transformations - LogisticRegression "
   ]
  },
  {
   "cell_type": "markdown",
   "id": "a8c56221-341f-4dd5-8106-f1f0cd3a939a",
   "metadata": {},
   "source": [
    "#### Scoring LogisticRegression"
   ]
  },
  {
   "cell_type": "code",
   "execution_count": 50,
   "id": "a5c42262-88ea-4f47-821e-d20f868a644f",
   "metadata": {},
   "outputs": [
    {
     "data": {
      "text/plain": [
       "0.7875835189309577"
      ]
     },
     "execution_count": 50,
     "metadata": {},
     "output_type": "execute_result"
    }
   ],
   "source": [
    "logreg = LogisticRegression(solver='lbfgs', max_iter=1000, random_state=42)\n",
    "m = logreg.fit(X1, y_train)\n",
    "m.score(X1, y)"
   ]
  },
  {
   "cell_type": "code",
   "execution_count": 51,
   "id": "ae772f56-1262-42d4-b3b6-10fbff68ff41",
   "metadata": {},
   "outputs": [
    {
     "data": {
      "text/plain": [
       "0.7876531180400891"
      ]
     },
     "execution_count": 51,
     "metadata": {},
     "output_type": "execute_result"
    }
   ],
   "source": [
    "logreg = LogisticRegression(solver='lbfgs', max_iter=1000, random_state=42)\n",
    "m = logreg.fit(X2, y_train)\n",
    "m.score(X2, y)"
   ]
  },
  {
   "cell_type": "code",
   "execution_count": 52,
   "id": "d6ad4746-3b43-4f7c-9f7d-ffdf2b15653f",
   "metadata": {},
   "outputs": [
    {
     "data": {
      "text/plain": [
       "0.777978841870824"
      ]
     },
     "execution_count": 52,
     "metadata": {},
     "output_type": "execute_result"
    }
   ],
   "source": [
    "logreg = LogisticRegression(solver='lbfgs', max_iter=1000, random_state=42)\n",
    "m = logreg.fit(X3, y_train)\n",
    "m.score(X3, y)"
   ]
  },
  {
   "cell_type": "markdown",
   "id": "6eb6ef69-77e7-43e9-844f-ab9e1484c726",
   "metadata": {},
   "source": [
    "#### Scoring LogisticRegression including Oversampling"
   ]
  },
  {
   "cell_type": "code",
   "execution_count": 53,
   "id": "89b76564-8dae-4302-9c66-a4c237587746",
   "metadata": {},
   "outputs": [
    {
     "data": {
      "text/plain": [
       "0.7822080207465036"
      ]
     },
     "execution_count": 53,
     "metadata": {},
     "output_type": "execute_result"
    }
   ],
   "source": [
    "logreg = LogisticRegression(solver='lbfgs', max_iter=1000, random_state=42)\n",
    "m = logreg.fit(X1_smote, y1_smote)\n",
    "m.score(X1_smote, y1_smote)"
   ]
  },
  {
   "cell_type": "code",
   "execution_count": 54,
   "id": "19e2f249-2667-4537-ac43-e4f9d8e7411e",
   "metadata": {},
   "outputs": [
    {
     "data": {
      "text/plain": [
       "0.7837362230249143"
      ]
     },
     "execution_count": 54,
     "metadata": {},
     "output_type": "execute_result"
    }
   ],
   "source": [
    "logreg = LogisticRegression(solver='lbfgs', max_iter=1000, random_state=42)\n",
    "m = logreg.fit(X2_smote, y2_smote)\n",
    "m.score(X2_smote, y2_smote)"
   ]
  },
  {
   "cell_type": "code",
   "execution_count": 55,
   "id": "aa565967-cd6b-4d20-9b8e-a080af8a2620",
   "metadata": {},
   "outputs": [
    {
     "data": {
      "text/plain": [
       "0.7479392423821432"
      ]
     },
     "execution_count": 55,
     "metadata": {},
     "output_type": "execute_result"
    }
   ],
   "source": [
    "logreg = LogisticRegression(solver='lbfgs', max_iter=1000, random_state=42)\n",
    "m = logreg.fit(X3_smote, y3_smote)\n",
    "m.score(X3_smote, y3_smote)"
   ]
  },
  {
   "cell_type": "markdown",
   "id": "322fdf63-e1d1-4200-994f-5e024092ab95",
   "metadata": {},
   "source": [
    "### Comparsion Transformations - Decision Tree Classifier"
   ]
  },
  {
   "cell_type": "markdown",
   "id": "1c2569d3-db00-4e07-b05b-b60e86264d54",
   "metadata": {},
   "source": [
    "#### Scoring Decision Tree Classifier"
   ]
  },
  {
   "cell_type": "markdown",
   "id": "c9725e6c-ed8e-4b65-880c-3c6004b4c429",
   "metadata": {},
   "source": [
    "max_depth=2"
   ]
  },
  {
   "cell_type": "code",
   "execution_count": 56,
   "id": "856f61ae-f482-47e3-809b-fbeed4477be9",
   "metadata": {},
   "outputs": [
    {
     "data": {
      "text/plain": [
       "0.7858435412026726"
      ]
     },
     "execution_count": 56,
     "metadata": {},
     "output_type": "execute_result"
    }
   ],
   "source": [
    "dtclass2 = DecisionTreeClassifier(max_depth=2)\n",
    "m1 = dtclass2.fit(X1, y_train)\n",
    "m1.score(X1, y)"
   ]
  },
  {
   "cell_type": "code",
   "execution_count": 57,
   "id": "5b7a5664-cde0-4576-8a23-0e544bed83a9",
   "metadata": {},
   "outputs": [
    {
     "data": {
      "text/plain": [
       "0.7858435412026726"
      ]
     },
     "execution_count": 57,
     "metadata": {},
     "output_type": "execute_result"
    }
   ],
   "source": [
    "dtclass2 = DecisionTreeClassifier(max_depth=2)\n",
    "m2 = dtclass2.fit(X2, y_train)\n",
    "m2.score(X2, y)"
   ]
  },
  {
   "cell_type": "code",
   "execution_count": 58,
   "id": "c277b635-9973-4c04-98c2-97fa39f5b978",
   "metadata": {},
   "outputs": [
    {
     "data": {
      "text/plain": [
       "0.7858435412026726"
      ]
     },
     "execution_count": 58,
     "metadata": {},
     "output_type": "execute_result"
    }
   ],
   "source": [
    "dtclass2 = DecisionTreeClassifier(max_depth=2)\n",
    "m3 = dtclass2.fit(X3, y_train)\n",
    "m3.score(X3, y)"
   ]
  },
  {
   "cell_type": "markdown",
   "id": "98383baf-348d-4a52-b1b7-f24e2a507d93",
   "metadata": {},
   "source": [
    "max_depth=3"
   ]
  },
  {
   "cell_type": "code",
   "execution_count": 59,
   "id": "c079770e-17b4-4c46-bddc-303980b68fc7",
   "metadata": {},
   "outputs": [
    {
     "data": {
      "text/plain": [
       "0.7864003340757239"
      ]
     },
     "execution_count": 59,
     "metadata": {},
     "output_type": "execute_result"
    }
   ],
   "source": [
    "dtclass3 = DecisionTreeClassifier(max_depth=3)\n",
    "m4 = dtclass3.fit(X1, y_train)\n",
    "m4.score(X1, y)"
   ]
  },
  {
   "cell_type": "code",
   "execution_count": 60,
   "id": "ba3d0082-51ba-4458-ae80-975762a93e6f",
   "metadata": {},
   "outputs": [
    {
     "data": {
      "text/plain": [
       "0.7864003340757239"
      ]
     },
     "execution_count": 60,
     "metadata": {},
     "output_type": "execute_result"
    }
   ],
   "source": [
    "dtclass3 = DecisionTreeClassifier(max_depth=3)\n",
    "m5 = dtclass3.fit(X2, y_train)\n",
    "m5.score(X2, y)"
   ]
  },
  {
   "cell_type": "code",
   "execution_count": 61,
   "id": "70fc3790-8166-474c-a944-4805dd29a8f4",
   "metadata": {},
   "outputs": [
    {
     "data": {
      "text/plain": [
       "0.7858435412026726"
      ]
     },
     "execution_count": 61,
     "metadata": {},
     "output_type": "execute_result"
    }
   ],
   "source": [
    "dtclass3 = DecisionTreeClassifier(max_depth=3)\n",
    "m6 = dtclass3.fit(X3, y_train)\n",
    "m6.score(X3, y)"
   ]
  },
  {
   "cell_type": "markdown",
   "id": "b117bd18-87b1-4773-a326-aaf691a26f53",
   "metadata": {},
   "source": [
    "max_depth=4"
   ]
  },
  {
   "cell_type": "code",
   "execution_count": 62,
   "id": "4135d580-fe8f-4d48-9d6e-31c09162e545",
   "metadata": {},
   "outputs": [
    {
     "data": {
      "text/plain": [
       "0.7867483296213809"
      ]
     },
     "execution_count": 62,
     "metadata": {},
     "output_type": "execute_result"
    }
   ],
   "source": [
    "dtclass4 = DecisionTreeClassifier(max_depth=4)\n",
    "m7 = dtclass4.fit(X1, y_train)\n",
    "m7.score(X1, y)"
   ]
  },
  {
   "cell_type": "code",
   "execution_count": 63,
   "id": "0087879e-fc33-49a1-a419-2e437a07635e",
   "metadata": {},
   "outputs": [
    {
     "data": {
      "text/plain": [
       "0.7867483296213809"
      ]
     },
     "execution_count": 63,
     "metadata": {},
     "output_type": "execute_result"
    }
   ],
   "source": [
    "dtclass4 = DecisionTreeClassifier(max_depth=4)\n",
    "m8 = dtclass4.fit(X2, y_train)\n",
    "m8.score(X2, y)"
   ]
  },
  {
   "cell_type": "code",
   "execution_count": 64,
   "id": "a788825b-0e39-4a9d-bd01-9ed09d7f6bc1",
   "metadata": {},
   "outputs": [
    {
     "data": {
      "text/plain": [
       "0.7932906458797327"
      ]
     },
     "execution_count": 64,
     "metadata": {},
     "output_type": "execute_result"
    }
   ],
   "source": [
    "dtclass4 = DecisionTreeClassifier(max_depth=4)  #best result so far\n",
    "m9 = dtclass4.fit(X3, y_train)\n",
    "m9.score(X3, y)"
   ]
  },
  {
   "cell_type": "markdown",
   "id": "f1bb11ad-3d7f-4d31-9664-2f7f887b2576",
   "metadata": {},
   "source": [
    "#### Scoring Decision Tree Classifier including Oversampling"
   ]
  },
  {
   "cell_type": "markdown",
   "id": "caf01b52-249f-4b23-a70a-fa27f0f4f115",
   "metadata": {},
   "source": [
    "max_depth=3"
   ]
  },
  {
   "cell_type": "code",
   "execution_count": 65,
   "id": "7810514e-0eec-4c84-89e8-3c19b556a9d9",
   "metadata": {},
   "outputs": [
    {
     "data": {
      "text/plain": [
       "0.7742891543947393"
      ]
     },
     "execution_count": 65,
     "metadata": {},
     "output_type": "execute_result"
    }
   ],
   "source": [
    "dtclass3 = DecisionTreeClassifier(max_depth=3)\n",
    "m4 = dtclass3.fit(X1_smote, y1_smote)\n",
    "m4.score(X1_smote, y1_smote)"
   ]
  },
  {
   "cell_type": "code",
   "execution_count": 66,
   "id": "49684d04-1bdd-41cd-a704-bfbeac907ea5",
   "metadata": {},
   "outputs": [
    {
     "data": {
      "text/plain": [
       "0.7733166620357507"
      ]
     },
     "execution_count": 66,
     "metadata": {},
     "output_type": "execute_result"
    }
   ],
   "source": [
    "dtclass3 = DecisionTreeClassifier(max_depth=3)\n",
    "m5 = dtclass3.fit(X2_smote, y2_smote)\n",
    "m5.score(X2_smote, y2_smote)"
   ]
  },
  {
   "cell_type": "code",
   "execution_count": 67,
   "id": "d779488a-6fce-4627-af61-b27d56c73539",
   "metadata": {},
   "outputs": [
    {
     "data": {
      "text/plain": [
       "0.7724367879966657"
      ]
     },
     "execution_count": 67,
     "metadata": {},
     "output_type": "execute_result"
    }
   ],
   "source": [
    "dtclass3 = DecisionTreeClassifier(max_depth=3)\n",
    "m6 = dtclass3.fit(X3_smote, y3_smote)\n",
    "m6.score(X3_smote, y3_smote)"
   ]
  },
  {
   "cell_type": "markdown",
   "id": "9ef73bb9-e54b-4006-8f86-e205d8c11114",
   "metadata": {},
   "source": [
    "max_depth=4"
   ]
  },
  {
   "cell_type": "code",
   "execution_count": 68,
   "id": "ab545bbe-b835-456b-b8ec-cb7bff9c737c",
   "metadata": {},
   "outputs": [
    {
     "data": {
      "text/plain": [
       "0.784986570343614"
      ]
     },
     "execution_count": 68,
     "metadata": {},
     "output_type": "execute_result"
    }
   ],
   "source": [
    "dtclass4 = DecisionTreeClassifier(max_depth=4)\n",
    "m7 = dtclass4.fit(X1_smote, y1_smote)\n",
    "m7.score(X1_smote, y1_smote)"
   ]
  },
  {
   "cell_type": "code",
   "execution_count": 69,
   "id": "0a102938-4388-44f5-b32b-f83c9e5c737b",
   "metadata": {},
   "outputs": [
    {
     "data": {
      "text/plain": [
       "0.7848013337038066"
      ]
     },
     "execution_count": 69,
     "metadata": {},
     "output_type": "execute_result"
    }
   ],
   "source": [
    "dtclass4 = DecisionTreeClassifier(max_depth=4)\n",
    "m8 = dtclass4.fit(X2_smote, y2_smote)\n",
    "m8.score(X2_smote, y2_smote)"
   ]
  },
  {
   "cell_type": "code",
   "execution_count": 70,
   "id": "c6f77889-1c46-4c02-ad41-e41128c9a3c3",
   "metadata": {},
   "outputs": [
    {
     "data": {
      "text/plain": [
       "0.7740112994350282"
      ]
     },
     "execution_count": 70,
     "metadata": {},
     "output_type": "execute_result"
    }
   ],
   "source": [
    "dtclass4 = DecisionTreeClassifier(max_depth=4)\n",
    "m9 = dtclass4.fit(X3_smote, y3_smote)\n",
    "m9.score(X3_smote, y3_smote)"
   ]
  },
  {
   "cell_type": "markdown",
   "id": "02c03c79-0e41-4993-8db9-847cca615c7c",
   "metadata": {},
   "source": [
    "#### Findings\n",
    "- No improvement could be achieved by oversampling the data.\n",
    "- Of the models tested, the Decision Tree Classifier with max_depth=4 on Pipeline 3 gives the best results. (Score: 0.7933)\n"
   ]
  },
  {
   "cell_type": "markdown",
   "id": "03ca5ea5-56f1-41d6-bffa-11a56c4b27ac",
   "metadata": {},
   "source": [
    "## Review"
   ]
  },
  {
   "cell_type": "markdown",
   "id": "e0acdee6-2fa0-4270-be44-6d3100f41d52",
   "metadata": {},
   "source": [
    "### Applying Models / Model Scores\n",
    "> DecisionTreeClassifier\n",
    "\n",
    "> RandomForestClassifier\n",
    "\n",
    "> LogisticRegression"
   ]
  },
  {
   "cell_type": "code",
   "execution_count": 71,
   "id": "1457bacc-8f06-4da8-b85a-753aed0801c1",
   "metadata": {},
   "outputs": [
    {
     "name": "stdout",
     "output_type": "stream",
     "text": [
      "\n",
      "i=1\n",
      "\n",
      "Pipeline: 1 DecisionTree: 0.7858 vs 0.7718\n",
      "Pipeline: 1 RandomForest: 0.7515 vs 0.7482\n",
      "Pipeline: 1 LogisticRegression: 0.7876 vs 0.7758\n",
      "Pipeline: 2 DecisionTree: 0.7858 vs 0.7718\n",
      "Pipeline: 2 RandomForest: 0.7515 vs 0.7482\n",
      "Pipeline: 2 LogisticRegression: 0.7877 vs 0.7758\n",
      "Pipeline: 3 DecisionTree: 0.7858 vs 0.7718\n",
      "Pipeline: 3 RandomForest: 0.7515 vs 0.7482\n",
      "Pipeline: 3 LogisticRegression: 0.778 vs 0.7643\n",
      "\n",
      "i=3\n",
      "\n",
      "Pipeline: 1 DecisionTree: 0.7864 vs 0.7724\n",
      "Pipeline: 1 RandomForest: 0.7515 vs 0.7482\n",
      "Pipeline: 1 LogisticRegression: 0.7876 vs 0.7758\n",
      "Pipeline: 2 DecisionTree: 0.7864 vs 0.7724\n",
      "Pipeline: 2 RandomForest: 0.7515 vs 0.7482\n",
      "Pipeline: 2 LogisticRegression: 0.7877 vs 0.7758\n",
      "Pipeline: 3 DecisionTree: 0.7858 vs 0.7718\n",
      "Pipeline: 3 RandomForest: 0.7515 vs 0.7482\n",
      "Pipeline: 3 LogisticRegression: 0.778 vs 0.7643\n",
      "\n",
      "i=4\n",
      "\n",
      "Pipeline: 1 DecisionTree: 0.7867 vs 0.7714\n",
      "Pipeline: 1 RandomForest: 0.7517 vs 0.7484\n",
      "Pipeline: 1 LogisticRegression: 0.7876 vs 0.7758\n",
      "Pipeline: 2 DecisionTree: 0.7867 vs 0.7714\n",
      "Pipeline: 2 RandomForest: 0.7515 vs 0.7482\n",
      "Pipeline: 2 LogisticRegression: 0.7877 vs 0.7758\n",
      "Pipeline: 3 DecisionTree: 0.7933 vs 0.7829\n",
      "Pipeline: 3 RandomForest: 0.7515 vs 0.7482\n",
      "Pipeline: 3 LogisticRegression: 0.778 vs 0.7643\n",
      "\n",
      "i=5\n",
      "\n",
      "Pipeline: 1 DecisionTree: 0.7968 vs 0.7818\n",
      "Pipeline: 1 RandomForest: 0.754 vs 0.7503\n",
      "Pipeline: 1 LogisticRegression: 0.7876 vs 0.7758\n",
      "Pipeline: 2 DecisionTree: 0.7968 vs 0.7816\n",
      "Pipeline: 2 RandomForest: 0.7527 vs 0.7486\n",
      "Pipeline: 2 LogisticRegression: 0.7877 vs 0.7758\n",
      "Pipeline: 3 DecisionTree: 0.7947 vs 0.7829\n",
      "Pipeline: 3 RandomForest: 0.7597 vs 0.7509\n",
      "Pipeline: 3 LogisticRegression: 0.778 vs 0.7643\n",
      "\n",
      "i=6\n",
      "\n",
      "Pipeline: 1 DecisionTree: 0.8 vs 0.7833\n",
      "Pipeline: 1 RandomForest: 0.762 vs 0.7534\n",
      "Pipeline: 1 LogisticRegression: 0.7876 vs 0.7758\n",
      "Pipeline: 2 DecisionTree: 0.8 vs 0.7829\n",
      "Pipeline: 2 RandomForest: 0.7597 vs 0.7528\n",
      "Pipeline: 2 LogisticRegression: 0.7877 vs 0.7758\n",
      "Pipeline: 3 DecisionTree: 0.8035 vs 0.7891\n",
      "Pipeline: 3 RandomForest: 0.7678 vs 0.7503\n",
      "Pipeline: 3 LogisticRegression: 0.778 vs 0.7643\n",
      "\n",
      "i=7\n",
      "\n",
      "Pipeline: 1 DecisionTree: 0.8048 vs 0.7846\n",
      "Pipeline: 1 RandomForest: 0.7792 vs 0.7633\n",
      "Pipeline: 1 LogisticRegression: 0.7876 vs 0.7758\n",
      "Pipeline: 2 DecisionTree: 0.8048 vs 0.7848\n",
      "Pipeline: 2 RandomForest: 0.7789 vs 0.7547\n",
      "Pipeline: 2 LogisticRegression: 0.7877 vs 0.7758\n",
      "Pipeline: 3 DecisionTree: 0.8094 vs 0.78\n",
      "Pipeline: 3 RandomForest: 0.7765 vs 0.7562\n",
      "Pipeline: 3 LogisticRegression: 0.778 vs 0.7643\n",
      "\n",
      "i=8\n",
      "\n",
      "Pipeline: 1 DecisionTree: 0.8108 vs 0.7816\n",
      "Pipeline: 1 RandomForest: 0.7784 vs 0.7582\n",
      "Pipeline: 1 LogisticRegression: 0.7876 vs 0.7758\n",
      "Pipeline: 2 DecisionTree: 0.8108 vs 0.7814\n",
      "Pipeline: 2 RandomForest: 0.789 vs 0.7595\n",
      "Pipeline: 2 LogisticRegression: 0.7877 vs 0.7758\n",
      "Pipeline: 3 DecisionTree: 0.8177 vs 0.7777\n",
      "Pipeline: 3 RandomForest: 0.7901 vs 0.7622\n",
      "Pipeline: 3 LogisticRegression: 0.778 vs 0.7643\n"
     ]
    }
   ],
   "source": [
    "for i in [1, 3, 4, 5, 6, 7, 8]:\n",
    "    print()\n",
    "    print(\"i=%s\" % i)\n",
    "    print()\n",
    "    for p_num, pipe in [(1, pipeline1), (2, pipeline2), (3, pipeline3)]:\n",
    "        m = DecisionTreeClassifier(max_depth=i).fit(pipe.fit_transform(df_train), y_train)\n",
    "        print(\"Pipeline:\", p_num, \"DecisionTree:\", round(m.score(pipe.transform(df_train), y_train), 4), \"vs\", round(m.score(pipe.transform(df_test), y_test), 4))\n",
    "        \n",
    "        m = RandomForestClassifier(max_depth=i).fit(pipe.transform(df_train), y_train)\n",
    "        print(\"Pipeline:\", p_num, \"RandomForest:\", round(m.score(pipe.transform(df_train), y_train), 4), \"vs\", round(m.score(pipe.transform(df_test), y_test), 4))\n",
    "        \n",
    "        m = LogisticRegression(solver='lbfgs', max_iter=1000, random_state=42).fit(pipe.transform(df_train), y_train)\n",
    "        print(\"Pipeline:\", p_num, \"LogisticRegression:\", round(m.score(pipe.fit_transform(df_train), y_train), 4), \"vs\", round(m.score(pipe.transform(df_test), y_test), 4))\n",
    "      "
   ]
  },
  {
   "cell_type": "markdown",
   "id": "f3b0321a-b3bf-4622-92e6-33a8f103c51e",
   "metadata": {},
   "source": [
    "**Best Models:**\n",
    "- Pipeline: 3 DecisionTree, i=6: Training Score 0.8035 vs Test Score 0.7891\n",
    "- Pipeline: 2 DecisionTree, i=7: Training Score 0.8050 vs Test Score 0.7852"
   ]
  },
  {
   "cell_type": "markdown",
   "id": "95ec60c1-2c2f-426f-a7dc-d26dc9ea1867",
   "metadata": {},
   "source": [
    "### GridSearch / Confusion Matrix"
   ]
  },
  {
   "cell_type": "markdown",
   "id": "c411a266-5a69-47a8-8c70-fa7b8c6e10fa",
   "metadata": {},
   "source": [
    "**True Positives** \n",
    "These are the correctly predicted positive values which means that the value of actual class is yes and the value of predicted class is also yes.  \n",
    "\n",
    "**True Negatives** \n",
    "These are the correctly predicted negative values which means that the value of actual class is no and value of predicted class is also no.  \n",
    "\n",
    "\n",
    "False positives and false negatives, these values occur when your actual class contradicts with the predicted class.  \n",
    "\n",
    "**False Positives**\n",
    "When actual class is no and predicted class is yes.  \n",
    "\n",
    "**False Negatives**   \n",
    "When actual class is yes but predicted class in no.  \n",
    "\n"
   ]
  },
  {
   "cell_type": "markdown",
   "id": "9f85e5a5-dc63-4bd9-ae3f-bf29bb79084d",
   "metadata": {},
   "source": [
    "**Precision**\n",
    "The precision is calculated as the ratio between the number of Positive samples correctly classified to the total number of samples classified as Positive (either correctly or incorrectly). The precision measures the model's accuracy in classifying a sample as positive.\n",
    "\n",
    "**Recall**\n",
    "The recall is calculated as the ratio between the number of Positive samples correctly classified as Positive to the total number of Positive samples. The recall measures the model's ability to detect Positive samples. The higher the recall, the more positive samples detected.\n",
    "\n",
    "**Precision or Recall?**\n",
    "The decision of whether to use precision or recall depends on the type of problem being solved. If the goal is to detect all the positive samples (without caring whether negative samples would be misclassified as positive), then use recall. Use precision if the problem is sensitive to classifying a sample as Positive in general, i.e. including Negative samples that were falsely classified as Positive.\n",
    "\n",
    "For the question we are looking at here, recall is the best measure to describe the quality of the forecast. We want to find as many candidates as possible who are open to changing jobs.  If some candidates are classified as willing to change jobs who are not, this is a comparatively smaller problem than not finding possible new employees for the company."
   ]
  },
  {
   "cell_type": "markdown",
   "id": "d3a7a7e4-ce38-4c01-9083-6e7ebfb08beb",
   "metadata": {},
   "source": [
    "#### DecisionTreeClassifier / Pipeline 2"
   ]
  },
  {
   "cell_type": "code",
   "execution_count": 72,
   "id": "35913d49-1c20-4937-8798-fb7c8cf5f438",
   "metadata": {},
   "outputs": [
    {
     "name": "stdout",
     "output_type": "stream",
     "text": [
      "{'max_depth': 7, 'max_features': 4, 'min_samples_leaf': 14, 'random_state': 42}\n",
      "Accuracy score : 0.75\n",
      "Recall score : 0.57\n",
      "Precision score : 0.01\n",
      "F1 score : 0.03\n"
     ]
    },
    {
     "data": {
      "image/png": "[encoded data removed]",
      "text/plain": [
       "<Figure size 1000x600 with 2 Axes>"
      ]
     },
     "metadata": {},
     "output_type": "display_data"
    }
   ],
   "source": [
    "GridSearch = True\n",
    "if GridSearch == True:\n",
    "    param_grid = {'max_features': [2,3,4,5], 'max_depth':[5,6,7], 'min_samples_leaf':[8,9,10,11,12,13,14],'random_state':[1,42] } \n",
    "    dt = DecisionTreeClassifier()\n",
    "    dt_cv =  GridSearchCV(dt, param_grid)\n",
    "    dt_cv.fit(X2, y)\n",
    "    print(dt_cv.best_params_)\n",
    "    dtpre = dt_cv.predict(X2_test)\n",
    "    dtcm = confusion_matrix(y_test,dtpre)\n",
    "    print(\"Accuracy score : {:.2f}\".format(accuracy_score(dtpre,y_test)))\n",
    "    print(\"Recall score : {:.2f}\".format(recall_score(dtpre,y_test,average='macro',zero_division=True)))\n",
    "    print(\"Precision score : {:.2f}\".format(precision_score(dtpre,y_test,zero_division = True)))\n",
    "    print(\"F1 score : {:.2f}\".format(f1_score(dtpre,y_test,zero_division=True)))\n",
    "    dis = ConfusionMatrixDisplay(dtcm,display_labels=[\"Not Leaving Job\",\"Leaving Job\"])\n",
    "    dis.plot()\n",
    "    plt.show()"
   ]
  },
  {
   "cell_type": "markdown",
   "id": "259627b1-6e9d-43a4-b52f-79db59aa5cfc",
   "metadata": {},
   "source": [
    "#### DecisionTreeClassifier / Pipeline 3"
   ]
  },
  {
   "cell_type": "code",
   "execution_count": 73,
   "id": "03583fec-8ddb-4652-82ae-9df06f8d4d13",
   "metadata": {},
   "outputs": [
    {
     "name": "stdout",
     "output_type": "stream",
     "text": [
      "{'max_depth': 7, 'max_features': 4, 'min_samples_leaf': 18, 'random_state': 42}\n",
      "Accuracy score : 0.77\n",
      "Recall score : 0.69\n",
      "Precision score : 0.42\n",
      "F1 score : 0.48\n"
     ]
    },
    {
     "data": {
      "image/png": "[encoded data removed]",
      "text/plain": [
       "<Figure size 1000x600 with 2 Axes>"
      ]
     },
     "metadata": {},
     "output_type": "display_data"
    }
   ],
   "source": [
    "GridSearch = True\n",
    "if GridSearch == True:\n",
    "    param_grid = {'max_features': [2,3,4,5], 'max_depth':[3,4,5,6,7,8], 'min_samples_leaf':[8,9,10,11,12,13,14,15,16,17,18],'random_state':[1,42] } \n",
    "    dt = DecisionTreeClassifier()\n",
    "    dt_cv =  GridSearchCV(dt, param_grid)\n",
    "    dt_cv.fit(X3, y)\n",
    "    print(dt_cv.best_params_)\n",
    "    dtpre = dt_cv.predict(X3_test)\n",
    "    dtcm = confusion_matrix(y_test,dtpre)\n",
    "    print(\"Accuracy score : {:.2f}\".format(accuracy_score(dtpre,y_test)))\n",
    "    print(\"Recall score : {:.2f}\".format(recall_score(dtpre,y_test,average='macro',zero_division=True)))\n",
    "    print(\"Precision score : {:.2f}\".format(precision_score(dtpre,y_test,zero_division = True)))\n",
    "    print(\"F1 score : {:.2f}\".format(f1_score(dtpre,y_test,zero_division=True)))\n",
    "    dis = ConfusionMatrixDisplay(dtcm,display_labels=[\"Not Leaving Job\",\"Leaving Job\"])\n",
    "    dis.plot()\n",
    "    plt.show()"
   ]
  },
  {
   "cell_type": "markdown",
   "id": "ea8f0dc5-e438-47cd-b118-5aa210537c73",
   "metadata": {},
   "source": [
    "#### DecisionTreeClassifier / Pipeline 3 with oversampling"
   ]
  },
  {
   "cell_type": "code",
   "execution_count": 74,
   "id": "5dfbeeba-ea38-474b-a4ce-3786586b26b5",
   "metadata": {},
   "outputs": [
    {
     "name": "stdout",
     "output_type": "stream",
     "text": [
      "{'max_depth': 7, 'max_features': 3, 'min_samples_leaf': 18, 'random_state': 42}\n",
      "Accuracy score : 0.71\n",
      "Recall score : 0.68\n",
      "Precision score : 0.76\n",
      "F1 score : 0.57\n"
     ]
    },
    {
     "data": {
      "image/png": "[encoded data removed]",
      "text/plain": [
       "<Figure size 1000x600 with 2 Axes>"
      ]
     },
     "metadata": {},
     "output_type": "display_data"
    }
   ],
   "source": [
    "GridSearch = True\n",
    "if GridSearch == True:\n",
    "    param_grid =  {'max_features': [2,3,4,5], 'max_depth':[3,4,5,6,7,8], 'min_samples_leaf':[8,9,10,11,12,13,14,15,16,17,18],'random_state':[1,42] } \n",
    "    dt = DecisionTreeClassifier()\n",
    "    dt_cv =  GridSearchCV(dt, param_grid)\n",
    "    dt_cv.fit(X3_smote, y3_smote)\n",
    "    print(dt_cv.best_params_)\n",
    "    dtpre = dt_cv.predict(X3_test)\n",
    "    dtcm = confusion_matrix(y_test,dtpre)\n",
    "    print(\"Accuracy score : {:.2f}\".format(accuracy_score(dtpre,y_test)))\n",
    "    print(\"Recall score : {:.2f}\".format(recall_score(dtpre,y_test,average='macro',zero_division=True)))\n",
    "    print(\"Precision score : {:.2f}\".format(precision_score(dtpre,y_test,zero_division = True)))\n",
    "    print(\"F1 score : {:.2f}\".format(f1_score(dtpre,y_test,zero_division=True)))\n",
    "    dis = ConfusionMatrixDisplay(dtcm,display_labels=[\"Not Leaving Job\",\"Leaving Job\"])\n",
    "    dis.plot()\n",
    "    plt.show()"
   ]
  }
 ],
 "metadata": {
  "kernelspec": {
   "display_name": "Python 3 (ipykernel)",
   "language": "python",
   "name": "python3"
  },
  "language_info": {
   "codemirror_mode": {
    "name": "ipython",
    "version": 3
   },
   "file_extension": ".py",
   "mimetype": "text/x-python",
   "name": "python",
   "nbconvert_exporter": "python",
   "pygments_lexer": "ipython3",
   "version": "3.9.12"
  },
  "toc-autonumbering": true,
  "toc-showmarkdowntxt": false
 },
 "nbformat": 4,
 "nbformat_minor": 5
}
